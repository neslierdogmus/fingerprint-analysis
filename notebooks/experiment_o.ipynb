{
 "cells": [
  {
   "cell_type": "code",
   "execution_count": 1,
   "id": "c90a0988",
   "metadata": {
    "execution": {
     "iopub.execute_input": "2021-11-15T20:00:10.855884Z",
     "iopub.status.busy": "2021-11-15T20:00:10.855466Z",
     "iopub.status.idle": "2021-11-15T20:00:11.540574Z",
     "shell.execute_reply": "2021-11-15T20:00:11.540124Z"
    },
    "papermill": {
     "duration": 0.699204,
     "end_time": "2021-11-15T20:00:11.540665",
     "exception": false,
     "start_time": "2021-11-15T20:00:10.841461",
     "status": "completed"
    },
    "tags": []
   },
   "outputs": [],
   "source": [
    "# import modules and packages\n",
    "from pathlib import Path\n",
    "import random\n",
    "import numpy as np\n",
    "\n",
    "import torch\n",
    "import torch.optim as optim\n",
    "\n",
    "from foe_fingerprint_dataset import FOEFingerprintDataset\n",
    "from foe_orientation import FOEOrientation\n",
    "from foe_results import FOEResults\n",
    "from functions import (create_dataloaders, init_model, train_epoch, val_epoch,\n",
    "                       save_model)\n",
    "\n",
    "# from IPython import get_ipython\n",
    "# get_ipython().run_line_magic('matplotlib', 'widget')\n",
    "\n",
    "\n",
    "def angle_loss(y, ye):\n",
    "    delta_sqr = [torch.min(torch.abs(yi-yei), np.pi-torch.abs(yi-yei))\n",
    "                 for (yi, yei) in zip(y, ye)]\n",
    "    return torch.mean(torch.stack(delta_sqr))"
   ]
  },
  {
   "cell_type": "code",
   "execution_count": 2,
   "id": "621b05a8",
   "metadata": {
    "execution": {
     "iopub.execute_input": "2021-11-15T20:00:11.566013Z",
     "iopub.status.busy": "2021-11-15T20:00:11.565718Z",
     "iopub.status.idle": "2021-11-15T20:00:11.566913Z",
     "shell.execute_reply": "2021-11-15T20:00:11.566641Z"
    },
    "papermill": {
     "duration": 0.018397,
     "end_time": "2021-11-15T20:00:11.566968",
     "exception": false,
     "start_time": "2021-11-15T20:00:11.548571",
     "status": "completed"
    },
    "tags": [
     "parameters"
    ]
   },
   "outputs": [],
   "source": [
    "# parameters\n",
    "# dataset_dir = '../datasets/Finger/FOESamples'\n",
    "# output_dir = '../results'\n",
    "# use_cpu = False\n",
    "# seed = 0\n",
    "# split_id = 2\n",
    "# num_folds = 5\n",
    "\n",
    "# patch_size = 64\n",
    "# batch_size = 64\n",
    "# hflip = True\n",
    "# rotate = True\n",
    "\n",
    "# num_classes = 36\n",
    "# num_epochs = 100\n",
    "# learning_rate = 0.0001\n",
    "# approach = 'ae_mlp'\n",
    "\n",
    "# encoded_space_dim = 512\n",
    "# train_with_bad = True\n",
    "# ae_num_epochs = 300\n",
    "# ae_learning_rate = 0.1\n",
    "# file_id = 'default_file_id'\n",
    "\n",
    "dataset_dir = ''\n",
    "output_dir = ''\n",
    "use_cpu = ''\n",
    "seed = ''\n",
    "split_id = ''\n",
    "num_folds = ''\n",
    "\n",
    "patch_size = ''\n",
    "batch_size = ''\n",
    "hflip = ''\n",
    "rotate = ''\n",
    "\n",
    "num_classes = ''\n",
    "num_epochs = ''\n",
    "learning_rate = ''\n",
    "approach = ''\n",
    "\n",
    "encoded_space_dim = ''\n",
    "train_with_bad = ''\n",
    "ae_num_epochs = ''\n",
    "ae_learning_rate = ''\n",
    "file_id = ''"
   ]
  },
  {
   "cell_type": "code",
   "execution_count": 3,
   "id": "8a436df9",
   "metadata": {
    "execution": {
     "iopub.execute_input": "2021-11-15T20:00:11.584911Z",
     "iopub.status.busy": "2021-11-15T20:00:11.584633Z",
     "iopub.status.idle": "2021-11-15T20:00:11.585569Z",
     "shell.execute_reply": "2021-11-15T20:00:11.585797Z"
    },
    "papermill": {
     "duration": 0.011288,
     "end_time": "2021-11-15T20:00:11.585861",
     "exception": false,
     "start_time": "2021-11-15T20:00:11.574573",
     "status": "completed"
    },
    "tags": [
     "injected-parameters"
    ]
   },
   "outputs": [],
   "source": [
    "# Parameters\n",
    "dataset_dir = \"../datasets/Finger/FOESamples\"\n",
    "output_dir = \"../results\"\n",
    "use_cpu = False\n",
    "seed = 0\n",
    "split_id = 2\n",
    "num_folds = 5\n",
    "approach = \"cnn\"\n",
    "batch_size = 64\n",
    "hflip = True\n",
    "rotate = True\n",
    "num_epochs = 100\n",
    "learning_rate = 0.001\n",
    "num_classes = 9\n",
    "patch_size = 96\n",
    "file_id = \"e1d3eefedd01a0383c6c5547367e178d\"\n"
   ]
  },
  {
   "cell_type": "code",
   "execution_count": 4,
   "id": "febb04ec",
   "metadata": {
    "execution": {
     "iopub.execute_input": "2021-11-15T20:00:11.606747Z",
     "iopub.status.busy": "2021-11-15T20:00:11.606461Z",
     "iopub.status.idle": "2021-11-15T20:00:11.614106Z",
     "shell.execute_reply": "2021-11-15T20:00:11.613851Z"
    },
    "papermill": {
     "duration": 0.020659,
     "end_time": "2021-11-15T20:00:11.614167",
     "exception": false,
     "start_time": "2021-11-15T20:00:11.593508",
     "status": "completed"
    },
    "tags": []
   },
   "outputs": [
    {
     "name": "stdout",
     "output_type": "stream",
     "text": [
      "{'patch_size': 96, 'batch_size': 64, 'hflip': True, 'rotate': True, 'num_classes': 9, 'num_epochs': 100, 'learning_rate': 0.001, 'approach': 'cnn', 'encoded_space_dim': '', 'train_with_bad': '', 'ae_num_epochs': '', 'ae_learning_rate': ''}\n",
      "Using cuda...\n",
      "Patch size: 96\n",
      "Batch size: 64\n"
     ]
    }
   ],
   "source": [
    "# parse and configure the experiment parameters\n",
    "args = dict(((k, eval(k)) for k in ('patch_size', 'batch_size', 'hflip',\n",
    "                                    'rotate', 'num_classes', 'num_epochs',\n",
    "                                    'learning_rate', 'approach',\n",
    "                                    'encoded_space_dim', 'train_with_bad',\n",
    "                                    'ae_num_epochs', 'ae_learning_rate')))\n",
    "print(args)\n",
    "\n",
    "dataset_dir = Path(dataset_dir)\n",
    "output_dir = Path(output_dir)\n",
    "\n",
    "models_dir = output_dir.joinpath('models')\n",
    "splits_dir = output_dir.joinpath('splits')\n",
    "logs_dir = output_dir.joinpath('logs')\n",
    "results_dir = output_dir.joinpath('results')\n",
    "\n",
    "output_dir.mkdir(parents=True, exist_ok=True)\n",
    "models_dir.mkdir(parents=True, exist_ok=True)\n",
    "splits_dir.mkdir(parents=True, exist_ok=True)\n",
    "logs_dir.mkdir(parents=True, exist_ok=True)\n",
    "results_dir.mkdir(parents=True, exist_ok=True)\n",
    "\n",
    "use_gpu = torch.cuda.is_available() and not use_cpu\n",
    "device = 'cuda' if use_gpu else 'cpu'\n",
    "\n",
    "print('Using {}...'.format(device))\n",
    "print('Patch size: {}'.format(patch_size))\n",
    "print('Batch size: {}'.format(batch_size))\n",
    "\n",
    "if seed is not None:\n",
    "    seed = int(seed)\n",
    "    random.seed(seed)\n",
    "    np.random.seed(seed)\n",
    "    torch.manual_seed(seed)\n",
    "    torch.backends.cudnn.deterministic = True\n",
    "    # torch.set_deterministic(True)\n",
    "\n",
    "NUM_WORKERS = 4"
   ]
  },
  {
   "cell_type": "code",
   "execution_count": 5,
   "id": "e7c9bf2f",
   "metadata": {
    "execution": {
     "iopub.execute_input": "2021-11-15T20:00:11.645740Z",
     "iopub.status.busy": "2021-11-15T20:00:11.645426Z",
     "iopub.status.idle": "2021-11-16T05:01:12.155588Z",
     "shell.execute_reply": "2021-11-16T05:01:12.155335Z"
    },
    "papermill": {
     "duration": 32460.533086,
     "end_time": "2021-11-16T05:01:12.155659",
     "exception": false,
     "start_time": "2021-11-15T20:00:11.622573",
     "status": "completed"
    },
    "tags": []
   },
   "outputs": [
    {
     "name": "stdout",
     "output_type": "stream",
     "text": [
      "Split indices with id 2 loaded. Number of folds ignored.\n",
      "Split indices with id 2 loaded. Number of folds ignored.\n",
      "* * * * * * * * * * * * * * * * * * * * * * * * * * * * * * * * * * * * * * * * \n",
      "Experiments for fold 0 starts...\n"
     ]
    },
    {
     "name": "stdout",
     "output_type": "stream",
     "text": [
      "Training and validating with:\n",
      "        Autoencoder training set size: 15950\n",
      "        Orientation estimation training set size: 76728\n",
      "        Validation set size (good): 2996\n",
      "        Validation set size (bad): 15034\n"
     ]
    },
    {
     "name": "stdout",
     "output_type": "stream",
     "text": [
      "EPOCH 1/100\tLOSS for train/good val/bad val:\t0.947 / 0.888 / 0.508 / 0.964\n"
     ]
    },
    {
     "name": "stdout",
     "output_type": "stream",
     "text": [
      "RMSE for good train/bad train good val/bad val:\t\t9.7° / 20.1° / 7.0° / 20.0°\n"
     ]
    },
    {
     "name": "stdout",
     "output_type": "stream",
     "text": [
      "ACC for good train/bad train good val/bad val:\t\t77.1% / 62.2% / 78.2% / 62.6%\n"
     ]
    },
    {
     "name": "stdout",
     "output_type": "stream",
     "text": [
      "EPOCH 2/100\tLOSS for train/good val/bad val:\t0.742 / 0.707 / 0.394 / 0.769\n"
     ]
    },
    {
     "name": "stdout",
     "output_type": "stream",
     "text": [
      "EPOCH 3/100\tLOSS for train/good val/bad val:\t0.701 / 0.697 / 0.434 / 0.750\n"
     ]
    },
    {
     "name": "stdout",
     "output_type": "stream",
     "text": [
      "EPOCH 4/100\tLOSS for train/good val/bad val:\t0.674 / 0.709 / 0.409 / 0.769\n"
     ]
    },
    {
     "name": "stdout",
     "output_type": "stream",
     "text": [
      "EPOCH 5/100\tLOSS for train/good val/bad val:\t0.656 / 0.697 / 0.448 / 0.746\n"
     ]
    },
    {
     "name": "stdout",
     "output_type": "stream",
     "text": [
      "EPOCH 6/100\tLOSS for train/good val/bad val:\t0.635 / 0.662 / 0.399 / 0.714\n"
     ]
    },
    {
     "name": "stdout",
     "output_type": "stream",
     "text": [
      "EPOCH 7/100\tLOSS for train/good val/bad val:\t0.625 / 0.664 / 0.425 / 0.711\n"
     ]
    },
    {
     "name": "stdout",
     "output_type": "stream",
     "text": [
      "EPOCH 8/100\tLOSS for train/good val/bad val:\t0.616 / 0.635 / 0.445 / 0.673\n"
     ]
    },
    {
     "name": "stdout",
     "output_type": "stream",
     "text": [
      "EPOCH 9/100\tLOSS for train/good val/bad val:\t0.605 / 0.646 / 0.493 / 0.677\n"
     ]
    },
    {
     "name": "stdout",
     "output_type": "stream",
     "text": [
      "EPOCH 10/100\tLOSS for train/good val/bad val:\t0.597 / 0.639 / 0.408 / 0.685\n"
     ]
    },
    {
     "name": "stdout",
     "output_type": "stream",
     "text": [
      "EPOCH 11/100\tLOSS for train/good val/bad val:\t0.586 / 0.661 / 0.431 / 0.706\n"
     ]
    },
    {
     "name": "stdout",
     "output_type": "stream",
     "text": [
      "RMSE for good train/bad train good val/bad val:\t\t7.4° / 12.7° / 5.6° / 14.4°\n"
     ]
    },
    {
     "name": "stdout",
     "output_type": "stream",
     "text": [
      "ACC for good train/bad train good val/bad val:\t\t83.4% / 74.8% / 81.1% / 72.6%\n"
     ]
    },
    {
     "name": "stdout",
     "output_type": "stream",
     "text": [
      "EPOCH 12/100\tLOSS for train/good val/bad val:\t0.578 / 0.656 / 0.387 / 0.710\n"
     ]
    },
    {
     "name": "stdout",
     "output_type": "stream",
     "text": [
      "EPOCH 13/100\tLOSS for train/good val/bad val:\t0.571 / 0.590 / 0.384 / 0.631\n"
     ]
    },
    {
     "name": "stdout",
     "output_type": "stream",
     "text": [
      "EPOCH 14/100\tLOSS for train/good val/bad val:\t0.575 / 0.618 / 0.410 / 0.659\n"
     ]
    },
    {
     "name": "stdout",
     "output_type": "stream",
     "text": [
      "EPOCH 15/100\tLOSS for train/good val/bad val:\t0.566 / 0.630 / 0.410 / 0.673\n"
     ]
    },
    {
     "name": "stdout",
     "output_type": "stream",
     "text": [
      "EPOCH 16/100\tLOSS for train/good val/bad val:\t0.557 / 0.597 / 0.415 / 0.634\n"
     ]
    },
    {
     "name": "stdout",
     "output_type": "stream",
     "text": [
      "EPOCH 17/100\tLOSS for train/good val/bad val:\t0.555 / 0.638 / 0.390 / 0.687\n"
     ]
    },
    {
     "name": "stdout",
     "output_type": "stream",
     "text": [
      "EPOCH 18/100\tLOSS for train/good val/bad val:\t0.551 / 0.596 / 0.398 / 0.635\n"
     ]
    },
    {
     "name": "stdout",
     "output_type": "stream",
     "text": [
      "EPOCH 19/100\tLOSS for train/good val/bad val:\t0.547 / 0.615 / 0.387 / 0.661\n"
     ]
    },
    {
     "name": "stdout",
     "output_type": "stream",
     "text": [
      "EPOCH 20/100\tLOSS for train/good val/bad val:\t0.550 / 0.605 / 0.397 / 0.647\n"
     ]
    },
    {
     "name": "stdout",
     "output_type": "stream",
     "text": [
      "EPOCH 21/100\tLOSS for train/good val/bad val:\t0.541 / 0.639 / 0.441 / 0.678\n"
     ]
    },
    {
     "name": "stdout",
     "output_type": "stream",
     "text": [
      "RMSE for good train/bad train good val/bad val:\t\t6.6° / 11.0° / 6.1° / 14.0°\n"
     ]
    },
    {
     "name": "stdout",
     "output_type": "stream",
     "text": [
      "ACC for good train/bad train good val/bad val:\t\t83.9% / 76.4% / 81.4% / 73.9%\n"
     ]
    },
    {
     "name": "stdout",
     "output_type": "stream",
     "text": [
      "EPOCH 22/100\tLOSS for train/good val/bad val:\t0.541 / 0.557 / 0.435 / 0.581\n"
     ]
    },
    {
     "name": "stdout",
     "output_type": "stream",
     "text": [
      "EPOCH 23/100\tLOSS for train/good val/bad val:\t0.538 / 0.558 / 0.397 / 0.590\n"
     ]
    },
    {
     "name": "stdout",
     "output_type": "stream",
     "text": [
      "EPOCH 24/100\tLOSS for train/good val/bad val:\t0.540 / 0.579 / 0.414 / 0.612\n"
     ]
    },
    {
     "name": "stdout",
     "output_type": "stream",
     "text": [
      "EPOCH 25/100\tLOSS for train/good val/bad val:\t0.533 / 0.607 / 0.428 / 0.643\n"
     ]
    },
    {
     "name": "stdout",
     "output_type": "stream",
     "text": [
      "EPOCH 26/100\tLOSS for train/good val/bad val:\t0.532 / 0.587 / 0.396 / 0.625\n"
     ]
    },
    {
     "name": "stdout",
     "output_type": "stream",
     "text": [
      "EPOCH 27/100\tLOSS for train/good val/bad val:\t0.530 / 0.578 / 0.393 / 0.615\n"
     ]
    },
    {
     "name": "stdout",
     "output_type": "stream",
     "text": [
      "EPOCH 28/100\tLOSS for train/good val/bad val:\t0.529 / 0.629 / 0.377 / 0.680\n"
     ]
    },
    {
     "name": "stdout",
     "output_type": "stream",
     "text": [
      "EPOCH 29/100\tLOSS for train/good val/bad val:\t0.527 / 0.551 / 0.385 / 0.584\n"
     ]
    },
    {
     "name": "stdout",
     "output_type": "stream",
     "text": [
      "EPOCH 30/100\tLOSS for train/good val/bad val:\t0.527 / 0.567 / 0.417 / 0.597\n"
     ]
    },
    {
     "name": "stdout",
     "output_type": "stream",
     "text": [
      "EPOCH 31/100\tLOSS for train/good val/bad val:\t0.525 / 0.631 / 0.357 / 0.686\n"
     ]
    },
    {
     "name": "stdout",
     "output_type": "stream",
     "text": [
      "RMSE for good train/bad train good val/bad val:\t\t6.4° / 10.5° / 5.2° / 14.0°\n"
     ]
    },
    {
     "name": "stdout",
     "output_type": "stream",
     "text": [
      "ACC for good train/bad train good val/bad val:\t\t84.4% / 77.2% / 85.6% / 73.9%\n"
     ]
    },
    {
     "name": "stdout",
     "output_type": "stream",
     "text": [
      "EPOCH 32/100\tLOSS for train/good val/bad val:\t0.519 / 0.649 / 0.395 / 0.700\n"
     ]
    },
    {
     "name": "stdout",
     "output_type": "stream",
     "text": [
      "EPOCH 33/100\tLOSS for train/good val/bad val:\t0.518 / 0.600 / 0.380 / 0.644\n"
     ]
    },
    {
     "name": "stdout",
     "output_type": "stream",
     "text": [
      "EPOCH 34/100\tLOSS for train/good val/bad val:\t0.518 / 0.575 / 0.392 / 0.612\n"
     ]
    },
    {
     "name": "stdout",
     "output_type": "stream",
     "text": [
      "EPOCH 35/100\tLOSS for train/good val/bad val:\t0.515 / 0.617 / 0.392 / 0.662\n"
     ]
    },
    {
     "name": "stdout",
     "output_type": "stream",
     "text": [
      "EPOCH 36/100\tLOSS for train/good val/bad val:\t0.513 / 0.589 / 0.408 / 0.625\n"
     ]
    },
    {
     "name": "stdout",
     "output_type": "stream",
     "text": [
      "EPOCH 37/100\tLOSS for train/good val/bad val:\t0.516 / 0.583 / 0.376 / 0.625\n"
     ]
    },
    {
     "name": "stdout",
     "output_type": "stream",
     "text": [
      "EPOCH 38/100\tLOSS for train/good val/bad val:\t0.514 / 0.560 / 0.427 / 0.586\n"
     ]
    },
    {
     "name": "stdout",
     "output_type": "stream",
     "text": [
      "EPOCH 39/100\tLOSS for train/good val/bad val:\t0.511 / 0.635 / 0.412 / 0.680\n"
     ]
    },
    {
     "name": "stdout",
     "output_type": "stream",
     "text": [
      "EPOCH 40/100\tLOSS for train/good val/bad val:\t0.514 / 0.622 / 0.395 / 0.668\n"
     ]
    },
    {
     "name": "stdout",
     "output_type": "stream",
     "text": [
      "EPOCH 41/100\tLOSS for train/good val/bad val:\t0.495 / 0.582 / 0.387 / 0.621\n"
     ]
    },
    {
     "name": "stdout",
     "output_type": "stream",
     "text": [
      "RMSE for good train/bad train good val/bad val:\t\t6.2° / 9.6° / 5.5° / 12.3°\n"
     ]
    },
    {
     "name": "stdout",
     "output_type": "stream",
     "text": [
      "ACC for good train/bad train good val/bad val:\t\t85.0% / 78.5% / 83.4% / 76.8%\n"
     ]
    },
    {
     "name": "stdout",
     "output_type": "stream",
     "text": [
      "EPOCH 42/100\tLOSS for train/good val/bad val:\t0.492 / 0.577 / 0.397 / 0.613\n"
     ]
    },
    {
     "name": "stdout",
     "output_type": "stream",
     "text": [
      "EPOCH 43/100\tLOSS for train/good val/bad val:\t0.491 / 0.576 / 0.388 / 0.614\n"
     ]
    },
    {
     "name": "stdout",
     "output_type": "stream",
     "text": [
      "EPOCH 44/100\tLOSS for train/good val/bad val:\t0.490 / 0.576 / 0.397 / 0.612\n"
     ]
    },
    {
     "name": "stdout",
     "output_type": "stream",
     "text": [
      "EPOCH 45/100\tLOSS for train/good val/bad val:\t0.486 / 0.569 / 0.388 / 0.605\n"
     ]
    },
    {
     "name": "stdout",
     "output_type": "stream",
     "text": [
      "EPOCH 46/100\tLOSS for train/good val/bad val:\t0.484 / 0.578 / 0.383 / 0.617\n"
     ]
    },
    {
     "name": "stdout",
     "output_type": "stream",
     "text": [
      "EPOCH 47/100\tLOSS for train/good val/bad val:\t0.485 / 0.569 / 0.385 / 0.606\n"
     ]
    },
    {
     "name": "stdout",
     "output_type": "stream",
     "text": [
      "EPOCH 48/100\tLOSS for train/good val/bad val:\t0.485 / 0.566 / 0.392 / 0.601\n"
     ]
    },
    {
     "name": "stdout",
     "output_type": "stream",
     "text": [
      "EPOCH 49/100\tLOSS for train/good val/bad val:\t0.486 / 0.575 / 0.385 / 0.613\n"
     ]
    },
    {
     "name": "stdout",
     "output_type": "stream",
     "text": [
      "EPOCH 50/100\tLOSS for train/good val/bad val:\t0.484 / 0.572 / 0.387 / 0.609\n"
     ]
    },
    {
     "name": "stdout",
     "output_type": "stream",
     "text": [
      "EPOCH 51/100\tLOSS for train/good val/bad val:\t0.485 / 0.563 / 0.390 / 0.597\n"
     ]
    },
    {
     "name": "stdout",
     "output_type": "stream",
     "text": [
      "RMSE for good train/bad train good val/bad val:\t\t6.1° / 9.4° / 5.3° / 11.6°\n"
     ]
    },
    {
     "name": "stdout",
     "output_type": "stream",
     "text": [
      "ACC for good train/bad train good val/bad val:\t\t85.2% / 78.7% / 83.6% / 77.2%\n"
     ]
    },
    {
     "name": "stdout",
     "output_type": "stream",
     "text": [
      "EPOCH 52/100\tLOSS for train/good val/bad val:\t0.477 / 0.568 / 0.400 / 0.601\n"
     ]
    },
    {
     "name": "stdout",
     "output_type": "stream",
     "text": [
      "EPOCH 53/100\tLOSS for train/good val/bad val:\t0.480 / 0.583 / 0.390 / 0.621\n"
     ]
    },
    {
     "name": "stdout",
     "output_type": "stream",
     "text": [
      "EPOCH 54/100\tLOSS for train/good val/bad val:\t0.480 / 0.573 / 0.391 / 0.609\n"
     ]
    },
    {
     "name": "stdout",
     "output_type": "stream",
     "text": [
      "EPOCH 55/100\tLOSS for train/good val/bad val:\t0.485 / 0.555 / 0.384 / 0.589\n"
     ]
    },
    {
     "name": "stdout",
     "output_type": "stream",
     "text": [
      "EPOCH 56/100\tLOSS for train/good val/bad val:\t0.483 / 0.574 / 0.387 / 0.611\n"
     ]
    },
    {
     "name": "stdout",
     "output_type": "stream",
     "text": [
      "EPOCH 57/100\tLOSS for train/good val/bad val:\t0.482 / 0.554 / 0.391 / 0.586\n"
     ]
    },
    {
     "name": "stdout",
     "output_type": "stream",
     "text": [
      "EPOCH 58/100\tLOSS for train/good val/bad val:\t0.487 / 0.556 / 0.385 / 0.591\n"
     ]
    },
    {
     "name": "stdout",
     "output_type": "stream",
     "text": [
      "EPOCH 59/100\tLOSS for train/good val/bad val:\t0.484 / 0.571 / 0.393 / 0.607\n"
     ]
    },
    {
     "name": "stdout",
     "output_type": "stream",
     "text": [
      "EPOCH 60/100\tLOSS for train/good val/bad val:\t0.481 / 0.567 / 0.397 / 0.601\n"
     ]
    },
    {
     "name": "stdout",
     "output_type": "stream",
     "text": [
      "EPOCH 61/100\tLOSS for train/good val/bad val:\t0.480 / 0.554 / 0.377 / 0.589\n"
     ]
    },
    {
     "name": "stdout",
     "output_type": "stream",
     "text": [
      "RMSE for good train/bad train good val/bad val:\t\t6.1° / 9.3° / 5.0° / 11.4°\n"
     ]
    },
    {
     "name": "stdout",
     "output_type": "stream",
     "text": [
      "ACC for good train/bad train good val/bad val:\t\t85.5% / 78.8% / 84.0% / 77.5%\n"
     ]
    },
    {
     "name": "stdout",
     "output_type": "stream",
     "text": [
      "EPOCH 62/100\tLOSS for train/good val/bad val:\t0.484 / 0.568 / 0.387 / 0.605\n"
     ]
    },
    {
     "name": "stdout",
     "output_type": "stream",
     "text": [
      "EPOCH 63/100\tLOSS for train/good val/bad val:\t0.481 / 0.559 / 0.385 / 0.594\n"
     ]
    },
    {
     "name": "stdout",
     "output_type": "stream",
     "text": [
      "EPOCH 64/100\tLOSS for train/good val/bad val:\t0.481 / 0.573 / 0.387 / 0.610\n"
     ]
    },
    {
     "name": "stdout",
     "output_type": "stream",
     "text": [
      "EPOCH 65/100\tLOSS for train/good val/bad val:\t0.482 / 0.562 / 0.392 / 0.595\n"
     ]
    },
    {
     "name": "stdout",
     "output_type": "stream",
     "text": [
      "EPOCH 66/100\tLOSS for train/good val/bad val:\t0.477 / 0.567 / 0.381 / 0.604\n"
     ]
    },
    {
     "name": "stdout",
     "output_type": "stream",
     "text": [
      "EPOCH 67/100\tLOSS for train/good val/bad val:\t0.477 / 0.576 / 0.389 / 0.613\n"
     ]
    },
    {
     "name": "stdout",
     "output_type": "stream",
     "text": [
      "EPOCH 68/100\tLOSS for train/good val/bad val:\t0.480 / 0.570 / 0.388 / 0.606\n"
     ]
    },
    {
     "name": "stdout",
     "output_type": "stream",
     "text": [
      "EPOCH 69/100\tLOSS for train/good val/bad val:\t0.478 / 0.567 / 0.397 / 0.601\n"
     ]
    },
    {
     "name": "stdout",
     "output_type": "stream",
     "text": [
      "EPOCH 70/100\tLOSS for train/good val/bad val:\t0.477 / 0.569 / 0.387 / 0.605\n"
     ]
    },
    {
     "name": "stdout",
     "output_type": "stream",
     "text": [
      "EPOCH 71/100\tLOSS for train/good val/bad val:\t0.474 / 0.569 / 0.393 / 0.604\n"
     ]
    },
    {
     "name": "stdout",
     "output_type": "stream",
     "text": [
      "RMSE for good train/bad train good val/bad val:\t\t6.1° / 9.2° / 5.3° / 11.7°\n"
     ]
    },
    {
     "name": "stdout",
     "output_type": "stream",
     "text": [
      "ACC for good train/bad train good val/bad val:\t\t86.3% / 79.1% / 83.2% / 77.4%\n"
     ]
    },
    {
     "name": "stdout",
     "output_type": "stream",
     "text": [
      "EPOCH 72/100\tLOSS for train/good val/bad val:\t0.479 / 0.559 / 0.383 / 0.594\n"
     ]
    },
    {
     "name": "stdout",
     "output_type": "stream",
     "text": [
      "EPOCH 73/100\tLOSS for train/good val/bad val:\t0.479 / 0.570 / 0.378 / 0.609\n"
     ]
    },
    {
     "name": "stdout",
     "output_type": "stream",
     "text": [
      "EPOCH 74/100\tLOSS for train/good val/bad val:\t0.480 / 0.564 / 0.391 / 0.598\n"
     ]
    },
    {
     "name": "stdout",
     "output_type": "stream",
     "text": [
      "EPOCH 75/100\tLOSS for train/good val/bad val:\t0.473 / 0.563 / 0.390 / 0.597\n"
     ]
    },
    {
     "name": "stdout",
     "output_type": "stream",
     "text": [
      "EPOCH 76/100\tLOSS for train/good val/bad val:\t0.475 / 0.563 / 0.391 / 0.598\n"
     ]
    },
    {
     "name": "stdout",
     "output_type": "stream",
     "text": [
      "EPOCH 77/100\tLOSS for train/good val/bad val:\t0.472 / 0.567 / 0.390 / 0.602\n"
     ]
    },
    {
     "name": "stdout",
     "output_type": "stream",
     "text": [
      "EPOCH 78/100\tLOSS for train/good val/bad val:\t0.477 / 0.567 / 0.386 / 0.603\n"
     ]
    },
    {
     "name": "stdout",
     "output_type": "stream",
     "text": [
      "EPOCH 79/100\tLOSS for train/good val/bad val:\t0.471 / 0.559 / 0.386 / 0.593\n"
     ]
    },
    {
     "name": "stdout",
     "output_type": "stream",
     "text": [
      "EPOCH 80/100\tLOSS for train/good val/bad val:\t0.474 / 0.559 / 0.386 / 0.593\n"
     ]
    },
    {
     "name": "stdout",
     "output_type": "stream",
     "text": [
      "EPOCH 81/100\tLOSS for train/good val/bad val:\t0.473 / 0.560 / 0.388 / 0.594\n"
     ]
    },
    {
     "name": "stdout",
     "output_type": "stream",
     "text": [
      "RMSE for good train/bad train good val/bad val:\t\t6.2° / 9.0° / 5.1° / 11.6°\n"
     ]
    },
    {
     "name": "stdout",
     "output_type": "stream",
     "text": [
      "ACC for good train/bad train good val/bad val:\t\t85.4% / 79.0% / 83.4% / 77.5%\n"
     ]
    },
    {
     "name": "stdout",
     "output_type": "stream",
     "text": [
      "EPOCH 82/100\tLOSS for train/good val/bad val:\t0.477 / 0.566 / 0.391 / 0.601\n"
     ]
    },
    {
     "name": "stdout",
     "output_type": "stream",
     "text": [
      "EPOCH 83/100\tLOSS for train/good val/bad val:\t0.477 / 0.569 / 0.389 / 0.604\n"
     ]
    },
    {
     "name": "stdout",
     "output_type": "stream",
     "text": [
      "EPOCH 84/100\tLOSS for train/good val/bad val:\t0.474 / 0.561 / 0.392 / 0.594\n"
     ]
    },
    {
     "name": "stdout",
     "output_type": "stream",
     "text": [
      "EPOCH 85/100\tLOSS for train/good val/bad val:\t0.473 / 0.566 / 0.389 / 0.602\n"
     ]
    },
    {
     "name": "stdout",
     "output_type": "stream",
     "text": [
      "EPOCH 86/100\tLOSS for train/good val/bad val:\t0.476 / 0.557 / 0.381 / 0.592\n"
     ]
    },
    {
     "name": "stdout",
     "output_type": "stream",
     "text": [
      "EPOCH 87/100\tLOSS for train/good val/bad val:\t0.472 / 0.565 / 0.389 / 0.600\n"
     ]
    },
    {
     "name": "stdout",
     "output_type": "stream",
     "text": [
      "EPOCH 88/100\tLOSS for train/good val/bad val:\t0.473 / 0.567 / 0.391 / 0.602\n"
     ]
    },
    {
     "name": "stdout",
     "output_type": "stream",
     "text": [
      "EPOCH 89/100\tLOSS for train/good val/bad val:\t0.474 / 0.562 / 0.385 / 0.597\n"
     ]
    },
    {
     "name": "stdout",
     "output_type": "stream",
     "text": [
      "EPOCH 90/100\tLOSS for train/good val/bad val:\t0.477 / 0.564 / 0.388 / 0.599\n"
     ]
    },
    {
     "name": "stdout",
     "output_type": "stream",
     "text": [
      "EPOCH 91/100\tLOSS for train/good val/bad val:\t0.474 / 0.565 / 0.384 / 0.600\n"
     ]
    },
    {
     "name": "stdout",
     "output_type": "stream",
     "text": [
      "RMSE for good train/bad train good val/bad val:\t\t6.0° / 9.1° / 5.1° / 11.7°\n"
     ]
    },
    {
     "name": "stdout",
     "output_type": "stream",
     "text": [
      "ACC for good train/bad train good val/bad val:\t\t85.7% / 79.4% / 83.9% / 77.3%\n"
     ]
    },
    {
     "name": "stdout",
     "output_type": "stream",
     "text": [
      "EPOCH 92/100\tLOSS for train/good val/bad val:\t0.474 / 0.568 / 0.390 / 0.603\n"
     ]
    },
    {
     "name": "stdout",
     "output_type": "stream",
     "text": [
      "EPOCH 93/100\tLOSS for train/good val/bad val:\t0.477 / 0.564 / 0.387 / 0.600\n"
     ]
    },
    {
     "name": "stdout",
     "output_type": "stream",
     "text": [
      "EPOCH 94/100\tLOSS for train/good val/bad val:\t0.478 / 0.569 / 0.394 / 0.604\n"
     ]
    },
    {
     "name": "stdout",
     "output_type": "stream",
     "text": [
      "EPOCH 95/100\tLOSS for train/good val/bad val:\t0.472 / 0.569 / 0.396 / 0.603\n"
     ]
    },
    {
     "name": "stdout",
     "output_type": "stream",
     "text": [
      "EPOCH 96/100\tLOSS for train/good val/bad val:\t0.476 / 0.572 / 0.395 / 0.607\n"
     ]
    },
    {
     "name": "stdout",
     "output_type": "stream",
     "text": [
      "EPOCH 97/100\tLOSS for train/good val/bad val:\t0.476 / 0.571 / 0.395 / 0.606\n"
     ]
    },
    {
     "name": "stdout",
     "output_type": "stream",
     "text": [
      "EPOCH 98/100\tLOSS for train/good val/bad val:\t0.473 / 0.568 / 0.392 / 0.603\n"
     ]
    },
    {
     "name": "stdout",
     "output_type": "stream",
     "text": [
      "EPOCH 99/100\tLOSS for train/good val/bad val:\t0.473 / 0.562 / 0.391 / 0.596\n"
     ]
    },
    {
     "name": "stdout",
     "output_type": "stream",
     "text": [
      "EPOCH 100/100\tLOSS for train/good val/bad val:\t0.474 / 0.570 / 0.387 / 0.606\n"
     ]
    },
    {
     "name": "stdout",
     "output_type": "stream",
     "text": [
      "RMSE for good train/bad train good val/bad val:\t\t6.0° / 9.1° / 5.2° / 11.8°\n"
     ]
    },
    {
     "name": "stdout",
     "output_type": "stream",
     "text": [
      "ACC for good train/bad train good val/bad val:\t\t85.6% / 79.2% / 83.7% / 77.2%\n"
     ]
    },
    {
     "data": {
      "image/png": "[encoded data removed]",
      "text/plain": [
       "<Figure size 432x288 with 1 Axes>"
      ]
     },
     "metadata": {
      "needs_background": "light"
     },
     "output_type": "display_data"
    },
    {
     "name": "stdout",
     "output_type": "stream",
     "text": [
      "Saved model to ../results/models/foe_cnn_e1d3eefedd01a0383c6c5547367e178d_f0.pt\n",
      "* * * * * * * * * * * * * * * * * * * * * * * * * * * * * * * * * * * * * * * * \n",
      "Experiments for fold 1 starts...\n"
     ]
    },
    {
     "name": "stdout",
     "output_type": "stream",
     "text": [
      "Training and validating with:\n",
      "        Autoencoder training set size: 14936\n",
      "        Orientation estimation training set size: 75395\n",
      "        Validation set size (good): 4010\n",
      "        Validation set size (bad): 15353\n"
     ]
    },
    {
     "name": "stdout",
     "output_type": "stream",
     "text": [
      "EPOCH 1/100\tLOSS for train/good val/bad val:\t0.949 / 0.891 / 0.357 / 1.030\n"
     ]
    },
    {
     "name": "stdout",
     "output_type": "stream",
     "text": [
      "RMSE for good train/bad train good val/bad val:\t\t9.7° / 20.1° / 5.3° / 19.0°\n"
     ]
    },
    {
     "name": "stdout",
     "output_type": "stream",
     "text": [
      "ACC for good train/bad train good val/bad val:\t\t76.6% / 62.5% / 86.1% / 64.4%\n"
     ]
    },
    {
     "name": "stdout",
     "output_type": "stream",
     "text": [
      "EPOCH 2/100\tLOSS for train/good val/bad val:\t0.726 / 0.839 / 0.474 / 0.934\n"
     ]
    },
    {
     "name": "stdout",
     "output_type": "stream",
     "text": [
      "EPOCH 3/100\tLOSS for train/good val/bad val:\t0.690 / 0.725 / 0.348 / 0.824\n"
     ]
    },
    {
     "name": "stdout",
     "output_type": "stream",
     "text": [
      "EPOCH 4/100\tLOSS for train/good val/bad val:\t0.668 / 0.881 / 0.341 / 1.022\n"
     ]
    },
    {
     "name": "stdout",
     "output_type": "stream",
     "text": [
      "EPOCH 5/100\tLOSS for train/good val/bad val:\t0.649 / 0.677 / 0.338 / 0.766\n"
     ]
    },
    {
     "name": "stdout",
     "output_type": "stream",
     "text": [
      "EPOCH 6/100\tLOSS for train/good val/bad val:\t0.636 / 0.636 / 0.345 / 0.712\n"
     ]
    },
    {
     "name": "stdout",
     "output_type": "stream",
     "text": [
      "EPOCH 7/100\tLOSS for train/good val/bad val:\t0.627 / 0.635 / 0.351 / 0.710\n"
     ]
    },
    {
     "name": "stdout",
     "output_type": "stream",
     "text": [
      "EPOCH 8/100\tLOSS for train/good val/bad val:\t0.615 / 0.750 / 0.350 / 0.854\n"
     ]
    },
    {
     "name": "stdout",
     "output_type": "stream",
     "text": [
      "EPOCH 9/100\tLOSS for train/good val/bad val:\t0.604 / 0.660 / 0.335 / 0.744\n"
     ]
    },
    {
     "name": "stdout",
     "output_type": "stream",
     "text": [
      "EPOCH 10/100\tLOSS for train/good val/bad val:\t0.599 / 0.702 / 0.352 / 0.794\n"
     ]
    },
    {
     "name": "stdout",
     "output_type": "stream",
     "text": [
      "EPOCH 11/100\tLOSS for train/good val/bad val:\t0.589 / 0.649 / 0.348 / 0.728\n"
     ]
    },
    {
     "name": "stdout",
     "output_type": "stream",
     "text": [
      "RMSE for good train/bad train good val/bad val:\t\t7.3° / 13.2° / 8.5° / 16.9°\n"
     ]
    },
    {
     "name": "stdout",
     "output_type": "stream",
     "text": [
      "ACC for good train/bad train good val/bad val:\t\t83.1% / 75.2% / 85.5% / 71.9%\n"
     ]
    },
    {
     "name": "stdout",
     "output_type": "stream",
     "text": [
      "EPOCH 12/100\tLOSS for train/good val/bad val:\t0.587 / 0.597 / 0.352 / 0.661\n"
     ]
    },
    {
     "name": "stdout",
     "output_type": "stream",
     "text": [
      "EPOCH 13/100\tLOSS for train/good val/bad val:\t0.580 / 0.638 / 0.356 / 0.711\n"
     ]
    },
    {
     "name": "stdout",
     "output_type": "stream",
     "text": [
      "EPOCH 14/100\tLOSS for train/good val/bad val:\t0.572 / 0.644 / 0.339 / 0.723\n"
     ]
    },
    {
     "name": "stdout",
     "output_type": "stream",
     "text": [
      "EPOCH 15/100\tLOSS for train/good val/bad val:\t0.569 / 0.636 / 0.352 / 0.711\n"
     ]
    },
    {
     "name": "stdout",
     "output_type": "stream",
     "text": [
      "EPOCH 16/100\tLOSS for train/good val/bad val:\t0.566 / 0.565 / 0.315 / 0.630\n"
     ]
    },
    {
     "name": "stdout",
     "output_type": "stream",
     "text": [
      "EPOCH 17/100\tLOSS for train/good val/bad val:\t0.561 / 0.590 / 0.318 / 0.660\n"
     ]
    },
    {
     "name": "stdout",
     "output_type": "stream",
     "text": [
      "EPOCH 18/100\tLOSS for train/good val/bad val:\t0.558 / 0.582 / 0.333 / 0.647\n"
     ]
    },
    {
     "name": "stdout",
     "output_type": "stream",
     "text": [
      "EPOCH 19/100\tLOSS for train/good val/bad val:\t0.556 / 0.573 / 0.318 / 0.639\n"
     ]
    },
    {
     "name": "stdout",
     "output_type": "stream",
     "text": [
      "EPOCH 20/100\tLOSS for train/good val/bad val:\t0.555 / 0.590 / 0.313 / 0.662\n"
     ]
    },
    {
     "name": "stdout",
     "output_type": "stream",
     "text": [
      "EPOCH 21/100\tLOSS for train/good val/bad val:\t0.548 / 0.527 / 0.313 / 0.583\n"
     ]
    },
    {
     "name": "stdout",
     "output_type": "stream",
     "text": [
      "RMSE for good train/bad train good val/bad val:\t\t6.9° / 11.4° / 6.5° / 10.5°\n"
     ]
    },
    {
     "name": "stdout",
     "output_type": "stream",
     "text": [
      "ACC for good train/bad train good val/bad val:\t\t83.8% / 76.4% / 86.8% / 76.1%\n"
     ]
    },
    {
     "name": "stdout",
     "output_type": "stream",
     "text": [
      "EPOCH 22/100\tLOSS for train/good val/bad val:\t0.550 / 0.600 / 0.340 / 0.668\n"
     ]
    },
    {
     "name": "stdout",
     "output_type": "stream",
     "text": [
      "EPOCH 23/100\tLOSS for train/good val/bad val:\t0.549 / 0.619 / 0.329 / 0.695\n"
     ]
    },
    {
     "name": "stdout",
     "output_type": "stream",
     "text": [
      "EPOCH 24/100\tLOSS for train/good val/bad val:\t0.543 / 0.630 / 0.341 / 0.705\n"
     ]
    },
    {
     "name": "stdout",
     "output_type": "stream",
     "text": [
      "EPOCH 25/100\tLOSS for train/good val/bad val:\t0.543 / 0.580 / 0.354 / 0.640\n"
     ]
    },
    {
     "name": "stdout",
     "output_type": "stream",
     "text": [
      "EPOCH 26/100\tLOSS for train/good val/bad val:\t0.537 / 0.581 / 0.339 / 0.644\n"
     ]
    },
    {
     "name": "stdout",
     "output_type": "stream",
     "text": [
      "EPOCH 27/100\tLOSS for train/good val/bad val:\t0.542 / 0.569 / 0.321 / 0.634\n"
     ]
    },
    {
     "name": "stdout",
     "output_type": "stream",
     "text": [
      "EPOCH 28/100\tLOSS for train/good val/bad val:\t0.536 / 0.549 / 0.328 / 0.606\n"
     ]
    },
    {
     "name": "stdout",
     "output_type": "stream",
     "text": [
      "EPOCH 29/100\tLOSS for train/good val/bad val:\t0.535 / 0.545 / 0.326 / 0.603\n"
     ]
    },
    {
     "name": "stdout",
     "output_type": "stream",
     "text": [
      "EPOCH 30/100\tLOSS for train/good val/bad val:\t0.535 / 0.587 / 0.335 / 0.653\n"
     ]
    },
    {
     "name": "stdout",
     "output_type": "stream",
     "text": [
      "EPOCH 31/100\tLOSS for train/good val/bad val:\t0.532 / 0.554 / 0.337 / 0.610\n"
     ]
    },
    {
     "name": "stdout",
     "output_type": "stream",
     "text": [
      "RMSE for good train/bad train good val/bad val:\t\t6.8° / 10.9° / 6.7° / 11.0°\n"
     ]
    },
    {
     "name": "stdout",
     "output_type": "stream",
     "text": [
      "ACC for good train/bad train good val/bad val:\t\t83.9% / 77.1% / 85.9% / 75.5%\n"
     ]
    },
    {
     "name": "stdout",
     "output_type": "stream",
     "text": [
      "EPOCH 32/100\tLOSS for train/good val/bad val:\t0.532 / 0.576 / 0.332 / 0.640\n"
     ]
    },
    {
     "name": "stdout",
     "output_type": "stream",
     "text": [
      "EPOCH 33/100\tLOSS for train/good val/bad val:\t0.527 / 0.550 / 0.313 / 0.612\n"
     ]
    },
    {
     "name": "stdout",
     "output_type": "stream",
     "text": [
      "EPOCH 34/100\tLOSS for train/good val/bad val:\t0.528 / 0.566 / 0.327 / 0.629\n"
     ]
    },
    {
     "name": "stdout",
     "output_type": "stream",
     "text": [
      "EPOCH 35/100\tLOSS for train/good val/bad val:\t0.524 / 0.568 / 0.307 / 0.636\n"
     ]
    },
    {
     "name": "stdout",
     "output_type": "stream",
     "text": [
      "EPOCH 36/100\tLOSS for train/good val/bad val:\t0.520 / 0.570 / 0.336 / 0.631\n"
     ]
    },
    {
     "name": "stdout",
     "output_type": "stream",
     "text": [
      "EPOCH 37/100\tLOSS for train/good val/bad val:\t0.524 / 0.593 / 0.332 / 0.661\n"
     ]
    },
    {
     "name": "stdout",
     "output_type": "stream",
     "text": [
      "EPOCH 38/100\tLOSS for train/good val/bad val:\t0.523 / 0.553 / 0.328 / 0.611\n"
     ]
    },
    {
     "name": "stdout",
     "output_type": "stream",
     "text": [
      "EPOCH 39/100\tLOSS for train/good val/bad val:\t0.522 / 0.596 / 0.326 / 0.666\n"
     ]
    },
    {
     "name": "stdout",
     "output_type": "stream",
     "text": [
      "EPOCH 40/100\tLOSS for train/good val/bad val:\t0.515 / 0.614 / 0.312 / 0.693\n"
     ]
    },
    {
     "name": "stdout",
     "output_type": "stream",
     "text": [
      "EPOCH 41/100\tLOSS for train/good val/bad val:\t0.508 / 0.563 / 0.323 / 0.625\n"
     ]
    },
    {
     "name": "stdout",
     "output_type": "stream",
     "text": [
      "RMSE for good train/bad train good val/bad val:\t\t6.4° / 10.0° / 6.5° / 12.1°\n"
     ]
    },
    {
     "name": "stdout",
     "output_type": "stream",
     "text": [
      "ACC for good train/bad train good val/bad val:\t\t84.6% / 78.0% / 86.7% / 75.2%\n"
     ]
    },
    {
     "name": "stdout",
     "output_type": "stream",
     "text": [
      "EPOCH 42/100\tLOSS for train/good val/bad val:\t0.501 / 0.547 / 0.323 / 0.606\n"
     ]
    },
    {
     "name": "stdout",
     "output_type": "stream",
     "text": [
      "EPOCH 43/100\tLOSS for train/good val/bad val:\t0.499 / 0.522 / 0.309 / 0.577\n"
     ]
    },
    {
     "name": "stdout",
     "output_type": "stream",
     "text": [
      "EPOCH 44/100\tLOSS for train/good val/bad val:\t0.497 / 0.530 / 0.307 / 0.588\n"
     ]
    },
    {
     "name": "stdout",
     "output_type": "stream",
     "text": [
      "EPOCH 45/100\tLOSS for train/good val/bad val:\t0.495 / 0.537 / 0.314 / 0.596\n"
     ]
    },
    {
     "name": "stdout",
     "output_type": "stream",
     "text": [
      "EPOCH 46/100\tLOSS for train/good val/bad val:\t0.493 / 0.539 / 0.313 / 0.598\n"
     ]
    },
    {
     "name": "stdout",
     "output_type": "stream",
     "text": [
      "EPOCH 47/100\tLOSS for train/good val/bad val:\t0.491 / 0.526 / 0.307 / 0.584\n"
     ]
    },
    {
     "name": "stdout",
     "output_type": "stream",
     "text": [
      "EPOCH 48/100\tLOSS for train/good val/bad val:\t0.497 / 0.528 / 0.309 / 0.585\n"
     ]
    },
    {
     "name": "stdout",
     "output_type": "stream",
     "text": [
      "EPOCH 49/100\tLOSS for train/good val/bad val:\t0.492 / 0.543 / 0.314 / 0.603\n"
     ]
    },
    {
     "name": "stdout",
     "output_type": "stream",
     "text": [
      "EPOCH 50/100\tLOSS for train/good val/bad val:\t0.490 / 0.540 / 0.309 / 0.600\n"
     ]
    },
    {
     "name": "stdout",
     "output_type": "stream",
     "text": [
      "EPOCH 51/100\tLOSS for train/good val/bad val:\t0.490 / 0.534 / 0.315 / 0.591\n"
     ]
    },
    {
     "name": "stdout",
     "output_type": "stream",
     "text": [
      "RMSE for good train/bad train good val/bad val:\t\t6.4° / 9.6° / 5.8° / 10.4°\n"
     ]
    },
    {
     "name": "stdout",
     "output_type": "stream",
     "text": [
      "ACC for good train/bad train good val/bad val:\t\t85.0% / 78.9% / 87.1% / 75.7%\n"
     ]
    },
    {
     "name": "stdout",
     "output_type": "stream",
     "text": [
      "EPOCH 52/100\tLOSS for train/good val/bad val:\t0.492 / 0.539 / 0.314 / 0.598\n"
     ]
    },
    {
     "name": "stdout",
     "output_type": "stream",
     "text": [
      "EPOCH 53/100\tLOSS for train/good val/bad val:\t0.488 / 0.538 / 0.312 / 0.598\n"
     ]
    },
    {
     "name": "stdout",
     "output_type": "stream",
     "text": [
      "EPOCH 54/100\tLOSS for train/good val/bad val:\t0.488 / 0.534 / 0.308 / 0.594\n"
     ]
    },
    {
     "name": "stdout",
     "output_type": "stream",
     "text": [
      "EPOCH 55/100\tLOSS for train/good val/bad val:\t0.490 / 0.549 / 0.321 / 0.608\n"
     ]
    },
    {
     "name": "stdout",
     "output_type": "stream",
     "text": [
      "EPOCH 56/100\tLOSS for train/good val/bad val:\t0.491 / 0.525 / 0.314 / 0.580\n"
     ]
    },
    {
     "name": "stdout",
     "output_type": "stream",
     "text": [
      "EPOCH 57/100\tLOSS for train/good val/bad val:\t0.491 / 0.537 / 0.311 / 0.596\n"
     ]
    },
    {
     "name": "stdout",
     "output_type": "stream",
     "text": [
      "EPOCH 58/100\tLOSS for train/good val/bad val:\t0.484 / 0.521 / 0.296 / 0.580\n"
     ]
    },
    {
     "name": "stdout",
     "output_type": "stream",
     "text": [
      "EPOCH 59/100\tLOSS for train/good val/bad val:\t0.488 / 0.536 / 0.316 / 0.594\n"
     ]
    },
    {
     "name": "stdout",
     "output_type": "stream",
     "text": [
      "EPOCH 60/100\tLOSS for train/good val/bad val:\t0.490 / 0.528 / 0.320 / 0.582\n"
     ]
    },
    {
     "name": "stdout",
     "output_type": "stream",
     "text": [
      "EPOCH 61/100\tLOSS for train/good val/bad val:\t0.488 / 0.529 / 0.313 / 0.585\n"
     ]
    },
    {
     "name": "stdout",
     "output_type": "stream",
     "text": [
      "RMSE for good train/bad train good val/bad val:\t\t6.3° / 9.6° / 5.4° / 9.6°\n"
     ]
    },
    {
     "name": "stdout",
     "output_type": "stream",
     "text": [
      "ACC for good train/bad train good val/bad val:\t\t84.8% / 79.0% / 86.9% / 76.0%\n"
     ]
    },
    {
     "name": "stdout",
     "output_type": "stream",
     "text": [
      "EPOCH 62/100\tLOSS for train/good val/bad val:\t0.485 / 0.545 / 0.322 / 0.603\n"
     ]
    },
    {
     "name": "stdout",
     "output_type": "stream",
     "text": [
      "EPOCH 63/100\tLOSS for train/good val/bad val:\t0.485 / 0.530 / 0.311 / 0.587\n"
     ]
    },
    {
     "name": "stdout",
     "output_type": "stream",
     "text": [
      "EPOCH 64/100\tLOSS for train/good val/bad val:\t0.489 / 0.537 / 0.315 / 0.595\n"
     ]
    },
    {
     "name": "stdout",
     "output_type": "stream",
     "text": [
      "EPOCH 65/100\tLOSS for train/good val/bad val:\t0.484 / 0.549 / 0.317 / 0.610\n"
     ]
    },
    {
     "name": "stdout",
     "output_type": "stream",
     "text": [
      "EPOCH 66/100\tLOSS for train/good val/bad val:\t0.486 / 0.543 / 0.319 / 0.602\n"
     ]
    },
    {
     "name": "stdout",
     "output_type": "stream",
     "text": [
      "EPOCH 67/100\tLOSS for train/good val/bad val:\t0.483 / 0.545 / 0.332 / 0.601\n"
     ]
    },
    {
     "name": "stdout",
     "output_type": "stream",
     "text": [
      "EPOCH 68/100\tLOSS for train/good val/bad val:\t0.483 / 0.535 / 0.320 / 0.591\n"
     ]
    },
    {
     "name": "stdout",
     "output_type": "stream",
     "text": [
      "EPOCH 69/100\tLOSS for train/good val/bad val:\t0.484 / 0.533 / 0.319 / 0.589\n"
     ]
    },
    {
     "name": "stdout",
     "output_type": "stream",
     "text": [
      "EPOCH 70/100\tLOSS for train/good val/bad val:\t0.484 / 0.550 / 0.329 / 0.608\n"
     ]
    },
    {
     "name": "stdout",
     "output_type": "stream",
     "text": [
      "EPOCH 71/100\tLOSS for train/good val/bad val:\t0.480 / 0.532 / 0.311 / 0.590\n"
     ]
    },
    {
     "name": "stdout",
     "output_type": "stream",
     "text": [
      "RMSE for good train/bad train good val/bad val:\t\t6.3° / 9.4° / 6.4° / 10.0°\n"
     ]
    },
    {
     "name": "stdout",
     "output_type": "stream",
     "text": [
      "ACC for good train/bad train good val/bad val:\t\t85.4% / 79.1% / 86.9% / 76.2%\n"
     ]
    },
    {
     "name": "stdout",
     "output_type": "stream",
     "text": [
      "EPOCH 72/100\tLOSS for train/good val/bad val:\t0.484 / 0.537 / 0.326 / 0.592\n"
     ]
    },
    {
     "name": "stdout",
     "output_type": "stream",
     "text": [
      "EPOCH 73/100\tLOSS for train/good val/bad val:\t0.485 / 0.537 / 0.317 / 0.594\n"
     ]
    },
    {
     "name": "stdout",
     "output_type": "stream",
     "text": [
      "EPOCH 74/100\tLOSS for train/good val/bad val:\t0.484 / 0.531 / 0.316 / 0.587\n"
     ]
    },
    {
     "name": "stdout",
     "output_type": "stream",
     "text": [
      "EPOCH 75/100\tLOSS for train/good val/bad val:\t0.483 / 0.566 / 0.331 / 0.627\n"
     ]
    },
    {
     "name": "stdout",
     "output_type": "stream",
     "text": [
      "EPOCH 76/100\tLOSS for train/good val/bad val:\t0.478 / 0.534 / 0.323 / 0.589\n"
     ]
    },
    {
     "name": "stdout",
     "output_type": "stream",
     "text": [
      "EPOCH 77/100\tLOSS for train/good val/bad val:\t0.479 / 0.531 / 0.316 / 0.587\n"
     ]
    },
    {
     "name": "stdout",
     "output_type": "stream",
     "text": [
      "EPOCH 78/100\tLOSS for train/good val/bad val:\t0.484 / 0.529 / 0.311 / 0.586\n"
     ]
    },
    {
     "name": "stdout",
     "output_type": "stream",
     "text": [
      "EPOCH 79/100\tLOSS for train/good val/bad val:\t0.482 / 0.535 / 0.318 / 0.592\n"
     ]
    },
    {
     "name": "stdout",
     "output_type": "stream",
     "text": [
      "EPOCH 80/100\tLOSS for train/good val/bad val:\t0.481 / 0.524 / 0.315 / 0.579\n"
     ]
    },
    {
     "name": "stdout",
     "output_type": "stream",
     "text": [
      "EPOCH 81/100\tLOSS for train/good val/bad val:\t0.480 / 0.535 / 0.320 / 0.592\n"
     ]
    },
    {
     "name": "stdout",
     "output_type": "stream",
     "text": [
      "RMSE for good train/bad train good val/bad val:\t\t6.4° / 9.4° / 6.4° / 10.0°\n"
     ]
    },
    {
     "name": "stdout",
     "output_type": "stream",
     "text": [
      "ACC for good train/bad train good val/bad val:\t\t85.6% / 79.2% / 86.5% / 76.1%\n"
     ]
    },
    {
     "name": "stdout",
     "output_type": "stream",
     "text": [
      "EPOCH 82/100\tLOSS for train/good val/bad val:\t0.477 / 0.549 / 0.332 / 0.606\n"
     ]
    },
    {
     "name": "stdout",
     "output_type": "stream",
     "text": [
      "EPOCH 83/100\tLOSS for train/good val/bad val:\t0.483 / 0.524 / 0.321 / 0.577\n"
     ]
    },
    {
     "name": "stdout",
     "output_type": "stream",
     "text": [
      "EPOCH 84/100\tLOSS for train/good val/bad val:\t0.482 / 0.542 / 0.318 / 0.600\n"
     ]
    },
    {
     "name": "stdout",
     "output_type": "stream",
     "text": [
      "EPOCH 85/100\tLOSS for train/good val/bad val:\t0.483 / 0.522 / 0.313 / 0.577\n"
     ]
    },
    {
     "name": "stdout",
     "output_type": "stream",
     "text": [
      "EPOCH 86/100\tLOSS for train/good val/bad val:\t0.481 / 0.527 / 0.319 / 0.581\n"
     ]
    },
    {
     "name": "stdout",
     "output_type": "stream",
     "text": [
      "EPOCH 87/100\tLOSS for train/good val/bad val:\t0.479 / 0.520 / 0.309 / 0.575\n"
     ]
    },
    {
     "name": "stdout",
     "output_type": "stream",
     "text": [
      "EPOCH 88/100\tLOSS for train/good val/bad val:\t0.483 / 0.555 / 0.321 / 0.617\n"
     ]
    },
    {
     "name": "stdout",
     "output_type": "stream",
     "text": [
      "EPOCH 89/100\tLOSS for train/good val/bad val:\t0.484 / 0.532 / 0.319 / 0.588\n"
     ]
    },
    {
     "name": "stdout",
     "output_type": "stream",
     "text": [
      "EPOCH 90/100\tLOSS for train/good val/bad val:\t0.477 / 0.520 / 0.310 / 0.575\n"
     ]
    },
    {
     "name": "stdout",
     "output_type": "stream",
     "text": [
      "EPOCH 91/100\tLOSS for train/good val/bad val:\t0.481 / 0.533 / 0.322 / 0.588\n"
     ]
    },
    {
     "name": "stdout",
     "output_type": "stream",
     "text": [
      "RMSE for good train/bad train good val/bad val:\t\t6.5° / 9.3° / 6.6° / 10.0°\n"
     ]
    },
    {
     "name": "stdout",
     "output_type": "stream",
     "text": [
      "ACC for good train/bad train good val/bad val:\t\t85.4% / 79.2% / 86.8% / 76.4%\n"
     ]
    },
    {
     "name": "stdout",
     "output_type": "stream",
     "text": [
      "EPOCH 92/100\tLOSS for train/good val/bad val:\t0.480 / 0.532 / 0.316 / 0.588\n"
     ]
    },
    {
     "name": "stdout",
     "output_type": "stream",
     "text": [
      "EPOCH 93/100\tLOSS for train/good val/bad val:\t0.477 / 0.541 / 0.324 / 0.598\n"
     ]
    },
    {
     "name": "stdout",
     "output_type": "stream",
     "text": [
      "EPOCH 94/100\tLOSS for train/good val/bad val:\t0.482 / 0.543 / 0.324 / 0.600\n"
     ]
    },
    {
     "name": "stdout",
     "output_type": "stream",
     "text": [
      "EPOCH 95/100\tLOSS for train/good val/bad val:\t0.479 / 0.536 / 0.313 / 0.594\n"
     ]
    },
    {
     "name": "stdout",
     "output_type": "stream",
     "text": [
      "EPOCH 96/100\tLOSS for train/good val/bad val:\t0.481 / 0.523 / 0.318 / 0.576\n"
     ]
    },
    {
     "name": "stdout",
     "output_type": "stream",
     "text": [
      "EPOCH 97/100\tLOSS for train/good val/bad val:\t0.478 / 0.536 / 0.317 / 0.593\n"
     ]
    },
    {
     "name": "stdout",
     "output_type": "stream",
     "text": [
      "EPOCH 98/100\tLOSS for train/good val/bad val:\t0.477 / 0.540 / 0.322 / 0.597\n"
     ]
    },
    {
     "name": "stdout",
     "output_type": "stream",
     "text": [
      "EPOCH 99/100\tLOSS for train/good val/bad val:\t0.479 / 0.537 / 0.324 / 0.592\n"
     ]
    },
    {
     "name": "stdout",
     "output_type": "stream",
     "text": [
      "EPOCH 100/100\tLOSS for train/good val/bad val:\t0.481 / 0.538 / 0.312 / 0.597\n"
     ]
    },
    {
     "name": "stdout",
     "output_type": "stream",
     "text": [
      "RMSE for good train/bad train good val/bad val:\t\t6.3° / 9.3° / 6.9° / 11.0°\n"
     ]
    },
    {
     "name": "stdout",
     "output_type": "stream",
     "text": [
      "ACC for good train/bad train good val/bad val:\t\t85.3% / 79.1% / 87.3% / 76.4%\n"
     ]
    },
    {
     "data": {
      "image/png": "[encoded data removed]",
      "text/plain": [
       "<Figure size 432x288 with 1 Axes>"
      ]
     },
     "metadata": {
      "needs_background": "light"
     },
     "output_type": "display_data"
    },
    {
     "name": "stdout",
     "output_type": "stream",
     "text": [
      "Saved model to ../results/models/foe_cnn_e1d3eefedd01a0383c6c5547367e178d_f1.pt\n",
      "* * * * * * * * * * * * * * * * * * * * * * * * * * * * * * * * * * * * * * * * \n",
      "Experiments for fold 2 starts...\n"
     ]
    },
    {
     "name": "stdout",
     "output_type": "stream",
     "text": [
      "Training and validating with:\n",
      "        Autoencoder training set size: 15455\n",
      "        Orientation estimation training set size: 76241\n",
      "        Validation set size (good): 3491\n",
      "        Validation set size (bad): 15026\n"
     ]
    },
    {
     "name": "stdout",
     "output_type": "stream",
     "text": [
      "EPOCH 1/100\tLOSS for train/good val/bad val:\t0.976 / 0.905 / 0.857 / 0.916\n"
     ]
    },
    {
     "name": "stdout",
     "output_type": "stream",
     "text": [
      "RMSE for good train/bad train good val/bad val:\t\t9.8° / 21.4° / 16.2° / 18.2°\n"
     ]
    },
    {
     "name": "stdout",
     "output_type": "stream",
     "text": [
      "ACC for good train/bad train good val/bad val:\t\t76.9% / 60.6% / 66.8% / 66.0%\n"
     ]
    },
    {
     "name": "stdout",
     "output_type": "stream",
     "text": [
      "EPOCH 2/100\tLOSS for train/good val/bad val:\t0.755 / 0.821 / 0.619 / 0.867\n"
     ]
    },
    {
     "name": "stdout",
     "output_type": "stream",
     "text": [
      "EPOCH 3/100\tLOSS for train/good val/bad val:\t0.716 / 0.650 / 0.567 / 0.669\n"
     ]
    },
    {
     "name": "stdout",
     "output_type": "stream",
     "text": [
      "EPOCH 4/100\tLOSS for train/good val/bad val:\t0.680 / 0.641 / 0.574 / 0.657\n"
     ]
    },
    {
     "name": "stdout",
     "output_type": "stream",
     "text": [
      "EPOCH 5/100\tLOSS for train/good val/bad val:\t0.659 / 0.687 / 0.574 / 0.713\n"
     ]
    },
    {
     "name": "stdout",
     "output_type": "stream",
     "text": [
      "EPOCH 6/100\tLOSS for train/good val/bad val:\t0.640 / 0.633 / 0.525 / 0.658\n"
     ]
    },
    {
     "name": "stdout",
     "output_type": "stream",
     "text": [
      "EPOCH 7/100\tLOSS for train/good val/bad val:\t0.626 / 0.714 / 0.568 / 0.748\n"
     ]
    },
    {
     "name": "stdout",
     "output_type": "stream",
     "text": [
      "EPOCH 8/100\tLOSS for train/good val/bad val:\t0.612 / 0.640 / 0.512 / 0.669\n"
     ]
    },
    {
     "name": "stdout",
     "output_type": "stream",
     "text": [
      "EPOCH 9/100\tLOSS for train/good val/bad val:\t0.605 / 0.720 / 0.571 / 0.754\n"
     ]
    },
    {
     "name": "stdout",
     "output_type": "stream",
     "text": [
      "EPOCH 10/100\tLOSS for train/good val/bad val:\t0.600 / 0.617 / 0.558 / 0.630\n"
     ]
    },
    {
     "name": "stdout",
     "output_type": "stream",
     "text": [
      "EPOCH 11/100\tLOSS for train/good val/bad val:\t0.590 / 0.813 / 0.582 / 0.867\n"
     ]
    },
    {
     "name": "stdout",
     "output_type": "stream",
     "text": [
      "RMSE for good train/bad train good val/bad val:\t\t7.1° / 13.2° / 9.9° / 16.7°\n"
     ]
    },
    {
     "name": "stdout",
     "output_type": "stream",
     "text": [
      "ACC for good train/bad train good val/bad val:\t\t84.6% / 74.5% / 76.2% / 71.2%\n"
     ]
    },
    {
     "name": "stdout",
     "output_type": "stream",
     "text": [
      "EPOCH 12/100\tLOSS for train/good val/bad val:\t0.581 / 0.654 / 0.525 / 0.684\n"
     ]
    },
    {
     "name": "stdout",
     "output_type": "stream",
     "text": [
      "EPOCH 13/100\tLOSS for train/good val/bad val:\t0.580 / 0.654 / 0.561 / 0.676\n"
     ]
    },
    {
     "name": "stdout",
     "output_type": "stream",
     "text": [
      "EPOCH 14/100\tLOSS for train/good val/bad val:\t0.569 / 0.666 / 0.532 / 0.698\n"
     ]
    },
    {
     "name": "stdout",
     "output_type": "stream",
     "text": [
      "EPOCH 15/100\tLOSS for train/good val/bad val:\t0.565 / 0.649 / 0.534 / 0.676\n"
     ]
    },
    {
     "name": "stdout",
     "output_type": "stream",
     "text": [
      "EPOCH 16/100\tLOSS for train/good val/bad val:\t0.561 / 0.610 / 0.520 / 0.630\n"
     ]
    },
    {
     "name": "stdout",
     "output_type": "stream",
     "text": [
      "EPOCH 17/100\tLOSS for train/good val/bad val:\t0.561 / 0.617 / 0.507 / 0.643\n"
     ]
    },
    {
     "name": "stdout",
     "output_type": "stream",
     "text": [
      "EPOCH 18/100\tLOSS for train/good val/bad val:\t0.552 / 0.691 / 0.532 / 0.728\n"
     ]
    },
    {
     "name": "stdout",
     "output_type": "stream",
     "text": [
      "EPOCH 19/100\tLOSS for train/good val/bad val:\t0.549 / 0.646 / 0.553 / 0.668\n"
     ]
    },
    {
     "name": "stdout",
     "output_type": "stream",
     "text": [
      "EPOCH 20/100\tLOSS for train/good val/bad val:\t0.552 / 0.606 / 0.492 / 0.632\n"
     ]
    },
    {
     "name": "stdout",
     "output_type": "stream",
     "text": [
      "EPOCH 21/100\tLOSS for train/good val/bad val:\t0.541 / 0.600 / 0.544 / 0.613\n"
     ]
    },
    {
     "name": "stdout",
     "output_type": "stream",
     "text": [
      "RMSE for good train/bad train good val/bad val:\t\t6.4° / 11.5° / 8.7° / 10.3°\n"
     ]
    },
    {
     "name": "stdout",
     "output_type": "stream",
     "text": [
      "ACC for good train/bad train good val/bad val:\t\t85.2% / 76.3% / 77.5% / 75.7%\n"
     ]
    },
    {
     "name": "stdout",
     "output_type": "stream",
     "text": [
      "EPOCH 22/100\tLOSS for train/good val/bad val:\t0.541 / 0.660 / 0.563 / 0.683\n"
     ]
    },
    {
     "name": "stdout",
     "output_type": "stream",
     "text": [
      "EPOCH 23/100\tLOSS for train/good val/bad val:\t0.537 / 0.657 / 0.549 / 0.682\n"
     ]
    },
    {
     "name": "stdout",
     "output_type": "stream",
     "text": [
      "EPOCH 24/100\tLOSS for train/good val/bad val:\t0.535 / 0.609 / 0.538 / 0.626\n"
     ]
    },
    {
     "name": "stdout",
     "output_type": "stream",
     "text": [
      "EPOCH 25/100\tLOSS for train/good val/bad val:\t0.532 / 0.639 / 0.514 / 0.668\n"
     ]
    },
    {
     "name": "stdout",
     "output_type": "stream",
     "text": [
      "EPOCH 26/100\tLOSS for train/good val/bad val:\t0.530 / 0.589 / 0.541 / 0.600\n"
     ]
    },
    {
     "name": "stdout",
     "output_type": "stream",
     "text": [
      "EPOCH 27/100\tLOSS for train/good val/bad val:\t0.529 / 0.612 / 0.559 / 0.624\n"
     ]
    },
    {
     "name": "stdout",
     "output_type": "stream",
     "text": [
      "EPOCH 28/100\tLOSS for train/good val/bad val:\t0.530 / 0.569 / 0.484 / 0.588\n"
     ]
    },
    {
     "name": "stdout",
     "output_type": "stream",
     "text": [
      "EPOCH 29/100\tLOSS for train/good val/bad val:\t0.525 / 0.560 / 0.508 / 0.572\n"
     ]
    },
    {
     "name": "stdout",
     "output_type": "stream",
     "text": [
      "EPOCH 30/100\tLOSS for train/good val/bad val:\t0.525 / 0.572 / 0.495 / 0.590\n"
     ]
    },
    {
     "name": "stdout",
     "output_type": "stream",
     "text": [
      "EPOCH 31/100\tLOSS for train/good val/bad val:\t0.520 / 0.588 / 0.484 / 0.613\n"
     ]
    },
    {
     "name": "stdout",
     "output_type": "stream",
     "text": [
      "RMSE for good train/bad train good val/bad val:\t\t6.4° / 10.8° / 7.4° / 10.9°\n"
     ]
    },
    {
     "name": "stdout",
     "output_type": "stream",
     "text": [
      "ACC for good train/bad train good val/bad val:\t\t85.8% / 77.0% / 80.1% / 76.5%\n"
     ]
    },
    {
     "name": "stdout",
     "output_type": "stream",
     "text": [
      "EPOCH 32/100\tLOSS for train/good val/bad val:\t0.515 / 0.579 / 0.490 / 0.599\n"
     ]
    },
    {
     "name": "stdout",
     "output_type": "stream",
     "text": [
      "EPOCH 33/100\tLOSS for train/good val/bad val:\t0.521 / 0.609 / 0.473 / 0.641\n"
     ]
    },
    {
     "name": "stdout",
     "output_type": "stream",
     "text": [
      "EPOCH 34/100\tLOSS for train/good val/bad val:\t0.517 / 0.578 / 0.488 / 0.599\n"
     ]
    },
    {
     "name": "stdout",
     "output_type": "stream",
     "text": [
      "EPOCH 35/100\tLOSS for train/good val/bad val:\t0.516 / 0.617 / 0.496 / 0.645\n"
     ]
    },
    {
     "name": "stdout",
     "output_type": "stream",
     "text": [
      "EPOCH 36/100\tLOSS for train/good val/bad val:\t0.515 / 0.569 / 0.482 / 0.590\n"
     ]
    },
    {
     "name": "stdout",
     "output_type": "stream",
     "text": [
      "EPOCH 37/100\tLOSS for train/good val/bad val:\t0.512 / 0.563 / 0.492 / 0.579\n"
     ]
    },
    {
     "name": "stdout",
     "output_type": "stream",
     "text": [
      "EPOCH 38/100\tLOSS for train/good val/bad val:\t0.509 / 0.579 / 0.478 / 0.603\n"
     ]
    },
    {
     "name": "stdout",
     "output_type": "stream",
     "text": [
      "EPOCH 39/100\tLOSS for train/good val/bad val:\t0.509 / 0.584 / 0.488 / 0.606\n"
     ]
    },
    {
     "name": "stdout",
     "output_type": "stream",
     "text": [
      "EPOCH 40/100\tLOSS for train/good val/bad val:\t0.512 / 0.594 / 0.536 / 0.608\n"
     ]
    },
    {
     "name": "stdout",
     "output_type": "stream",
     "text": [
      "EPOCH 41/100\tLOSS for train/good val/bad val:\t0.495 / 0.577 / 0.467 / 0.602\n"
     ]
    },
    {
     "name": "stdout",
     "output_type": "stream",
     "text": [
      "RMSE for good train/bad train good val/bad val:\t\t6.0° / 9.8° / 7.0° / 10.2°\n"
     ]
    },
    {
     "name": "stdout",
     "output_type": "stream",
     "text": [
      "ACC for good train/bad train good val/bad val:\t\t86.1% / 78.1% / 80.4% / 76.8%\n"
     ]
    },
    {
     "name": "stdout",
     "output_type": "stream",
     "text": [
      "EPOCH 42/100\tLOSS for train/good val/bad val:\t0.490 / 0.583 / 0.458 / 0.612\n"
     ]
    },
    {
     "name": "stdout",
     "output_type": "stream",
     "text": [
      "EPOCH 43/100\tLOSS for train/good val/bad val:\t0.485 / 0.563 / 0.461 / 0.587\n"
     ]
    },
    {
     "name": "stdout",
     "output_type": "stream",
     "text": [
      "EPOCH 44/100\tLOSS for train/good val/bad val:\t0.484 / 0.572 / 0.454 / 0.599\n"
     ]
    },
    {
     "name": "stdout",
     "output_type": "stream",
     "text": [
      "EPOCH 45/100\tLOSS for train/good val/bad val:\t0.486 / 0.570 / 0.456 / 0.596\n"
     ]
    },
    {
     "name": "stdout",
     "output_type": "stream",
     "text": [
      "EPOCH 46/100\tLOSS for train/good val/bad val:\t0.485 / 0.585 / 0.459 / 0.614\n"
     ]
    },
    {
     "name": "stdout",
     "output_type": "stream",
     "text": [
      "EPOCH 47/100\tLOSS for train/good val/bad val:\t0.481 / 0.559 / 0.460 / 0.582\n"
     ]
    },
    {
     "name": "stdout",
     "output_type": "stream",
     "text": [
      "EPOCH 48/100\tLOSS for train/good val/bad val:\t0.480 / 0.575 / 0.446 / 0.604\n"
     ]
    },
    {
     "name": "stdout",
     "output_type": "stream",
     "text": [
      "EPOCH 49/100\tLOSS for train/good val/bad val:\t0.480 / 0.562 / 0.455 / 0.586\n"
     ]
    },
    {
     "name": "stdout",
     "output_type": "stream",
     "text": [
      "EPOCH 50/100\tLOSS for train/good val/bad val:\t0.483 / 0.564 / 0.459 / 0.588\n"
     ]
    },
    {
     "name": "stdout",
     "output_type": "stream",
     "text": [
      "EPOCH 51/100\tLOSS for train/good val/bad val:\t0.483 / 0.558 / 0.458 / 0.581\n"
     ]
    },
    {
     "name": "stdout",
     "output_type": "stream",
     "text": [
      "RMSE for good train/bad train good val/bad val:\t\t5.9° / 9.5° / 6.9° / 9.6°\n"
     ]
    },
    {
     "name": "stdout",
     "output_type": "stream",
     "text": [
      "ACC for good train/bad train good val/bad val:\t\t86.4% / 78.6% / 80.6% / 77.5%\n"
     ]
    },
    {
     "name": "stdout",
     "output_type": "stream",
     "text": [
      "EPOCH 52/100\tLOSS for train/good val/bad val:\t0.480 / 0.568 / 0.457 / 0.593\n"
     ]
    },
    {
     "name": "stdout",
     "output_type": "stream",
     "text": [
      "EPOCH 53/100\tLOSS for train/good val/bad val:\t0.480 / 0.558 / 0.455 / 0.582\n"
     ]
    },
    {
     "name": "stdout",
     "output_type": "stream",
     "text": [
      "EPOCH 54/100\tLOSS for train/good val/bad val:\t0.481 / 0.580 / 0.455 / 0.609\n"
     ]
    },
    {
     "name": "stdout",
     "output_type": "stream",
     "text": [
      "EPOCH 55/100\tLOSS for train/good val/bad val:\t0.481 / 0.570 / 0.454 / 0.597\n"
     ]
    },
    {
     "name": "stdout",
     "output_type": "stream",
     "text": [
      "EPOCH 56/100\tLOSS for train/good val/bad val:\t0.480 / 0.557 / 0.452 / 0.581\n"
     ]
    },
    {
     "name": "stdout",
     "output_type": "stream",
     "text": [
      "EPOCH 57/100\tLOSS for train/good val/bad val:\t0.476 / 0.568 / 0.452 / 0.595\n"
     ]
    },
    {
     "name": "stdout",
     "output_type": "stream",
     "text": [
      "EPOCH 58/100\tLOSS for train/good val/bad val:\t0.474 / 0.565 / 0.459 / 0.590\n"
     ]
    },
    {
     "name": "stdout",
     "output_type": "stream",
     "text": [
      "EPOCH 59/100\tLOSS for train/good val/bad val:\t0.478 / 0.582 / 0.478 / 0.606\n"
     ]
    },
    {
     "name": "stdout",
     "output_type": "stream",
     "text": [
      "EPOCH 60/100\tLOSS for train/good val/bad val:\t0.474 / 0.561 / 0.462 / 0.584\n"
     ]
    },
    {
     "name": "stdout",
     "output_type": "stream",
     "text": [
      "EPOCH 61/100\tLOSS for train/good val/bad val:\t0.476 / 0.566 / 0.460 / 0.591\n"
     ]
    },
    {
     "name": "stdout",
     "output_type": "stream",
     "text": [
      "RMSE for good train/bad train good val/bad val:\t\t5.8° / 9.4° / 6.9° / 9.8°\n"
     ]
    },
    {
     "name": "stdout",
     "output_type": "stream",
     "text": [
      "ACC for good train/bad train good val/bad val:\t\t86.3% / 79.1% / 80.5% / 77.7%\n"
     ]
    },
    {
     "name": "stdout",
     "output_type": "stream",
     "text": [
      "EPOCH 62/100\tLOSS for train/good val/bad val:\t0.476 / 0.582 / 0.455 / 0.612\n"
     ]
    },
    {
     "name": "stdout",
     "output_type": "stream",
     "text": [
      "EPOCH 63/100\tLOSS for train/good val/bad val:\t0.477 / 0.573 / 0.454 / 0.601\n"
     ]
    },
    {
     "name": "stdout",
     "output_type": "stream",
     "text": [
      "EPOCH 64/100\tLOSS for train/good val/bad val:\t0.473 / 0.572 / 0.452 / 0.600\n"
     ]
    },
    {
     "name": "stdout",
     "output_type": "stream",
     "text": [
      "EPOCH 65/100\tLOSS for train/good val/bad val:\t0.476 / 0.565 / 0.446 / 0.592\n"
     ]
    },
    {
     "name": "stdout",
     "output_type": "stream",
     "text": [
      "EPOCH 66/100\tLOSS for train/good val/bad val:\t0.479 / 0.570 / 0.460 / 0.595\n"
     ]
    },
    {
     "name": "stdout",
     "output_type": "stream",
     "text": [
      "EPOCH 67/100\tLOSS for train/good val/bad val:\t0.476 / 0.575 / 0.455 / 0.602\n"
     ]
    },
    {
     "name": "stdout",
     "output_type": "stream",
     "text": [
      "EPOCH 68/100\tLOSS for train/good val/bad val:\t0.473 / 0.557 / 0.444 / 0.584\n"
     ]
    },
    {
     "name": "stdout",
     "output_type": "stream",
     "text": [
      "EPOCH 69/100\tLOSS for train/good val/bad val:\t0.474 / 0.553 / 0.443 / 0.579\n"
     ]
    },
    {
     "name": "stdout",
     "output_type": "stream",
     "text": [
      "EPOCH 70/100\tLOSS for train/good val/bad val:\t0.478 / 0.567 / 0.453 / 0.593\n"
     ]
    },
    {
     "name": "stdout",
     "output_type": "stream",
     "text": [
      "EPOCH 71/100\tLOSS for train/good val/bad val:\t0.474 / 0.573 / 0.469 / 0.597\n"
     ]
    },
    {
     "name": "stdout",
     "output_type": "stream",
     "text": [
      "RMSE for good train/bad train good val/bad val:\t\t5.9° / 9.3° / 7.0° / 9.8°\n"
     ]
    },
    {
     "name": "stdout",
     "output_type": "stream",
     "text": [
      "ACC for good train/bad train good val/bad val:\t\t86.5% / 78.8% / 79.8% / 77.1%\n"
     ]
    },
    {
     "name": "stdout",
     "output_type": "stream",
     "text": [
      "EPOCH 72/100\tLOSS for train/good val/bad val:\t0.476 / 0.573 / 0.466 / 0.598\n"
     ]
    },
    {
     "name": "stdout",
     "output_type": "stream",
     "text": [
      "EPOCH 73/100\tLOSS for train/good val/bad val:\t0.475 / 0.557 / 0.457 / 0.581\n"
     ]
    },
    {
     "name": "stdout",
     "output_type": "stream",
     "text": [
      "EPOCH 74/100\tLOSS for train/good val/bad val:\t0.475 / 0.555 / 0.453 / 0.579\n"
     ]
    },
    {
     "name": "stdout",
     "output_type": "stream",
     "text": [
      "EPOCH 75/100\tLOSS for train/good val/bad val:\t0.476 / 0.573 / 0.463 / 0.598\n"
     ]
    },
    {
     "name": "stdout",
     "output_type": "stream",
     "text": [
      "EPOCH 76/100\tLOSS for train/good val/bad val:\t0.469 / 0.575 / 0.451 / 0.603\n"
     ]
    },
    {
     "name": "stdout",
     "output_type": "stream",
     "text": [
      "EPOCH 77/100\tLOSS for train/good val/bad val:\t0.470 / 0.563 / 0.448 / 0.589\n"
     ]
    },
    {
     "name": "stdout",
     "output_type": "stream",
     "text": [
      "EPOCH 78/100\tLOSS for train/good val/bad val:\t0.473 / 0.574 / 0.456 / 0.601\n"
     ]
    },
    {
     "name": "stdout",
     "output_type": "stream",
     "text": [
      "EPOCH 79/100\tLOSS for train/good val/bad val:\t0.467 / 0.557 / 0.455 / 0.580\n"
     ]
    },
    {
     "name": "stdout",
     "output_type": "stream",
     "text": [
      "EPOCH 80/100\tLOSS for train/good val/bad val:\t0.474 / 0.570 / 0.453 / 0.597\n"
     ]
    },
    {
     "name": "stdout",
     "output_type": "stream",
     "text": [
      "EPOCH 81/100\tLOSS for train/good val/bad val:\t0.466 / 0.555 / 0.446 / 0.580\n"
     ]
    },
    {
     "name": "stdout",
     "output_type": "stream",
     "text": [
      "RMSE for good train/bad train good val/bad val:\t\t6.0° / 9.2° / 6.6° / 9.6°\n"
     ]
    },
    {
     "name": "stdout",
     "output_type": "stream",
     "text": [
      "ACC for good train/bad train good val/bad val:\t\t86.7% / 79.4% / 81.1% / 77.4%\n"
     ]
    },
    {
     "name": "stdout",
     "output_type": "stream",
     "text": [
      "EPOCH 82/100\tLOSS for train/good val/bad val:\t0.472 / 0.560 / 0.460 / 0.584\n"
     ]
    },
    {
     "name": "stdout",
     "output_type": "stream",
     "text": [
      "EPOCH 83/100\tLOSS for train/good val/bad val:\t0.469 / 0.574 / 0.461 / 0.601\n"
     ]
    },
    {
     "name": "stdout",
     "output_type": "stream",
     "text": [
      "EPOCH 84/100\tLOSS for train/good val/bad val:\t0.468 / 0.573 / 0.456 / 0.600\n"
     ]
    },
    {
     "name": "stdout",
     "output_type": "stream",
     "text": [
      "EPOCH 85/100\tLOSS for train/good val/bad val:\t0.470 / 0.581 / 0.455 / 0.611\n"
     ]
    },
    {
     "name": "stdout",
     "output_type": "stream",
     "text": [
      "EPOCH 86/100\tLOSS for train/good val/bad val:\t0.469 / 0.566 / 0.450 / 0.593\n"
     ]
    },
    {
     "name": "stdout",
     "output_type": "stream",
     "text": [
      "EPOCH 87/100\tLOSS for train/good val/bad val:\t0.471 / 0.573 / 0.451 / 0.601\n"
     ]
    },
    {
     "name": "stdout",
     "output_type": "stream",
     "text": [
      "EPOCH 88/100\tLOSS for train/good val/bad val:\t0.472 / 0.565 / 0.449 / 0.592\n"
     ]
    },
    {
     "name": "stdout",
     "output_type": "stream",
     "text": [
      "EPOCH 89/100\tLOSS for train/good val/bad val:\t0.470 / 0.575 / 0.453 / 0.604\n"
     ]
    },
    {
     "name": "stdout",
     "output_type": "stream",
     "text": [
      "EPOCH 90/100\tLOSS for train/good val/bad val:\t0.470 / 0.567 / 0.449 / 0.595\n"
     ]
    },
    {
     "name": "stdout",
     "output_type": "stream",
     "text": [
      "EPOCH 91/100\tLOSS for train/good val/bad val:\t0.472 / 0.559 / 0.448 / 0.585\n"
     ]
    },
    {
     "name": "stdout",
     "output_type": "stream",
     "text": [
      "RMSE for good train/bad train good val/bad val:\t\t6.0° / 9.2° / 6.7° / 9.7°\n"
     ]
    },
    {
     "name": "stdout",
     "output_type": "stream",
     "text": [
      "ACC for good train/bad train good val/bad val:\t\t86.4% / 79.3% / 80.7% / 77.4%\n"
     ]
    },
    {
     "name": "stdout",
     "output_type": "stream",
     "text": [
      "EPOCH 92/100\tLOSS for train/good val/bad val:\t0.472 / 0.563 / 0.449 / 0.590\n"
     ]
    },
    {
     "name": "stdout",
     "output_type": "stream",
     "text": [
      "EPOCH 93/100\tLOSS for train/good val/bad val:\t0.472 / 0.572 / 0.451 / 0.600\n"
     ]
    },
    {
     "name": "stdout",
     "output_type": "stream",
     "text": [
      "EPOCH 94/100\tLOSS for train/good val/bad val:\t0.468 / 0.564 / 0.450 / 0.590\n"
     ]
    },
    {
     "name": "stdout",
     "output_type": "stream",
     "text": [
      "EPOCH 95/100\tLOSS for train/good val/bad val:\t0.471 / 0.560 / 0.446 / 0.587\n"
     ]
    },
    {
     "name": "stdout",
     "output_type": "stream",
     "text": [
      "EPOCH 96/100\tLOSS for train/good val/bad val:\t0.468 / 0.563 / 0.448 / 0.589\n"
     ]
    },
    {
     "name": "stdout",
     "output_type": "stream",
     "text": [
      "EPOCH 97/100\tLOSS for train/good val/bad val:\t0.468 / 0.563 / 0.449 / 0.590\n"
     ]
    },
    {
     "name": "stdout",
     "output_type": "stream",
     "text": [
      "EPOCH 98/100\tLOSS for train/good val/bad val:\t0.472 / 0.561 / 0.451 / 0.587\n"
     ]
    },
    {
     "name": "stdout",
     "output_type": "stream",
     "text": [
      "EPOCH 99/100\tLOSS for train/good val/bad val:\t0.469 / 0.557 / 0.453 / 0.582\n"
     ]
    },
    {
     "name": "stdout",
     "output_type": "stream",
     "text": [
      "EPOCH 100/100\tLOSS for train/good val/bad val:\t0.468 / 0.565 / 0.452 / 0.591\n"
     ]
    },
    {
     "name": "stdout",
     "output_type": "stream",
     "text": [
      "RMSE for good train/bad train good val/bad val:\t\t5.9° / 9.2° / 6.8° / 9.8°\n"
     ]
    },
    {
     "name": "stdout",
     "output_type": "stream",
     "text": [
      "ACC for good train/bad train good val/bad val:\t\t86.9% / 79.3% / 80.6% / 77.5%\n"
     ]
    },
    {
     "data": {
      "image/png": "[encoded data removed]",
      "text/plain": [
       "<Figure size 432x288 with 1 Axes>"
      ]
     },
     "metadata": {
      "needs_background": "light"
     },
     "output_type": "display_data"
    },
    {
     "name": "stdout",
     "output_type": "stream",
     "text": [
      "Saved model to ../results/models/foe_cnn_e1d3eefedd01a0383c6c5547367e178d_f2.pt\n",
      "* * * * * * * * * * * * * * * * * * * * * * * * * * * * * * * * * * * * * * * * \n",
      "Experiments for fold 3 starts...\n"
     ]
    },
    {
     "name": "stdout",
     "output_type": "stream",
     "text": [
      "Training and validating with:\n",
      "        Autoencoder training set size: 14722\n",
      "        Orientation estimation training set size: 75795\n",
      "        Validation set size (good): 4224\n",
      "        Validation set size (bad): 14739\n"
     ]
    },
    {
     "name": "stdout",
     "output_type": "stream",
     "text": [
      "EPOCH 1/100\tLOSS for train/good val/bad val:\t0.935 / 0.794 / 0.420 / 0.901\n"
     ]
    },
    {
     "name": "stdout",
     "output_type": "stream",
     "text": [
      "RMSE for good train/bad train good val/bad val:\t\t9.5° / 19.9° / 5.9° / 18.1°\n"
     ]
    },
    {
     "name": "stdout",
     "output_type": "stream",
     "text": [
      "ACC for good train/bad train good val/bad val:\t\t77.5% / 63.0% / 82.1% / 65.7%\n"
     ]
    },
    {
     "name": "stdout",
     "output_type": "stream",
     "text": [
      "EPOCH 2/100\tLOSS for train/good val/bad val:\t0.730 / 0.756 / 0.365 / 0.868\n"
     ]
    },
    {
     "name": "stdout",
     "output_type": "stream",
     "text": [
      "EPOCH 3/100\tLOSS for train/good val/bad val:\t0.689 / 0.746 / 0.402 / 0.845\n"
     ]
    },
    {
     "name": "stdout",
     "output_type": "stream",
     "text": [
      "EPOCH 4/100\tLOSS for train/good val/bad val:\t0.671 / 0.690 / 0.358 / 0.785\n"
     ]
    },
    {
     "name": "stdout",
     "output_type": "stream",
     "text": [
      "EPOCH 5/100\tLOSS for train/good val/bad val:\t0.656 / 0.822 / 0.441 / 0.932\n"
     ]
    },
    {
     "name": "stdout",
     "output_type": "stream",
     "text": [
      "EPOCH 6/100\tLOSS for train/good val/bad val:\t0.635 / 0.664 / 0.364 / 0.749\n"
     ]
    },
    {
     "name": "stdout",
     "output_type": "stream",
     "text": [
      "EPOCH 7/100\tLOSS for train/good val/bad val:\t0.625 / 0.630 / 0.364 / 0.707\n"
     ]
    },
    {
     "name": "stdout",
     "output_type": "stream",
     "text": [
      "EPOCH 8/100\tLOSS for train/good val/bad val:\t0.617 / 0.586 / 0.339 / 0.657\n"
     ]
    },
    {
     "name": "stdout",
     "output_type": "stream",
     "text": [
      "EPOCH 9/100\tLOSS for train/good val/bad val:\t0.611 / 0.578 / 0.361 / 0.640\n"
     ]
    },
    {
     "name": "stdout",
     "output_type": "stream",
     "text": [
      "EPOCH 10/100\tLOSS for train/good val/bad val:\t0.599 / 0.594 / 0.350 / 0.664\n"
     ]
    },
    {
     "name": "stdout",
     "output_type": "stream",
     "text": [
      "EPOCH 11/100\tLOSS for train/good val/bad val:\t0.593 / 0.590 / 0.357 / 0.656\n"
     ]
    },
    {
     "name": "stdout",
     "output_type": "stream",
     "text": [
      "RMSE for good train/bad train good val/bad val:\t\t7.3° / 13.3° / 5.9° / 12.7°\n"
     ]
    },
    {
     "name": "stdout",
     "output_type": "stream",
     "text": [
      "ACC for good train/bad train good val/bad val:\t\t83.6% / 74.6% / 85.0% / 74.4%\n"
     ]
    },
    {
     "name": "stdout",
     "output_type": "stream",
     "text": [
      "EPOCH 12/100\tLOSS for train/good val/bad val:\t0.589 / 0.605 / 0.374 / 0.671\n"
     ]
    },
    {
     "name": "stdout",
     "output_type": "stream",
     "text": [
      "EPOCH 13/100\tLOSS for train/good val/bad val:\t0.580 / 0.603 / 0.369 / 0.670\n"
     ]
    },
    {
     "name": "stdout",
     "output_type": "stream",
     "text": [
      "EPOCH 14/100\tLOSS for train/good val/bad val:\t0.577 / 0.603 / 0.364 / 0.672\n"
     ]
    },
    {
     "name": "stdout",
     "output_type": "stream",
     "text": [
      "EPOCH 15/100\tLOSS for train/good val/bad val:\t0.569 / 0.713 / 0.364 / 0.813\n"
     ]
    },
    {
     "name": "stdout",
     "output_type": "stream",
     "text": [
      "EPOCH 16/100\tLOSS for train/good val/bad val:\t0.565 / 0.577 / 0.346 / 0.643\n"
     ]
    },
    {
     "name": "stdout",
     "output_type": "stream",
     "text": [
      "EPOCH 17/100\tLOSS for train/good val/bad val:\t0.560 / 0.649 / 0.333 / 0.740\n"
     ]
    },
    {
     "name": "stdout",
     "output_type": "stream",
     "text": [
      "EPOCH 18/100\tLOSS for train/good val/bad val:\t0.558 / 0.669 / 0.411 / 0.743\n"
     ]
    },
    {
     "name": "stdout",
     "output_type": "stream",
     "text": [
      "EPOCH 19/100\tLOSS for train/good val/bad val:\t0.552 / 0.581 / 0.363 / 0.643\n"
     ]
    },
    {
     "name": "stdout",
     "output_type": "stream",
     "text": [
      "EPOCH 20/100\tLOSS for train/good val/bad val:\t0.549 / 0.538 / 0.340 / 0.594\n"
     ]
    },
    {
     "name": "stdout",
     "output_type": "stream",
     "text": [
      "EPOCH 21/100\tLOSS for train/good val/bad val:\t0.545 / 0.565 / 0.352 / 0.626\n"
     ]
    },
    {
     "name": "stdout",
     "output_type": "stream",
     "text": [
      "RMSE for good train/bad train good val/bad val:\t\t6.7° / 11.4° / 5.5° / 12.8°\n"
     ]
    },
    {
     "name": "stdout",
     "output_type": "stream",
     "text": [
      "ACC for good train/bad train good val/bad val:\t\t83.8% / 76.7% / 84.6% / 75.0%\n"
     ]
    },
    {
     "name": "stdout",
     "output_type": "stream",
     "text": [
      "EPOCH 22/100\tLOSS for train/good val/bad val:\t0.540 / 0.555 / 0.355 / 0.612\n"
     ]
    },
    {
     "name": "stdout",
     "output_type": "stream",
     "text": [
      "EPOCH 23/100\tLOSS for train/good val/bad val:\t0.541 / 0.546 / 0.366 / 0.597\n"
     ]
    },
    {
     "name": "stdout",
     "output_type": "stream",
     "text": [
      "EPOCH 24/100\tLOSS for train/good val/bad val:\t0.540 / 0.555 / 0.353 / 0.613\n"
     ]
    },
    {
     "name": "stdout",
     "output_type": "stream",
     "text": [
      "EPOCH 25/100\tLOSS for train/good val/bad val:\t0.531 / 0.604 / 0.374 / 0.670\n"
     ]
    },
    {
     "name": "stdout",
     "output_type": "stream",
     "text": [
      "EPOCH 26/100\tLOSS for train/good val/bad val:\t0.531 / 0.560 / 0.372 / 0.614\n"
     ]
    },
    {
     "name": "stdout",
     "output_type": "stream",
     "text": [
      "EPOCH 27/100\tLOSS for train/good val/bad val:\t0.527 / 0.562 / 0.354 / 0.622\n"
     ]
    },
    {
     "name": "stdout",
     "output_type": "stream",
     "text": [
      "EPOCH 28/100\tLOSS for train/good val/bad val:\t0.526 / 0.587 / 0.363 / 0.652\n"
     ]
    },
    {
     "name": "stdout",
     "output_type": "stream",
     "text": [
      "EPOCH 29/100\tLOSS for train/good val/bad val:\t0.527 / 0.550 / 0.346 / 0.609\n"
     ]
    },
    {
     "name": "stdout",
     "output_type": "stream",
     "text": [
      "EPOCH 30/100\tLOSS for train/good val/bad val:\t0.524 / 0.592 / 0.360 / 0.659\n"
     ]
    },
    {
     "name": "stdout",
     "output_type": "stream",
     "text": [
      "EPOCH 31/100\tLOSS for train/good val/bad val:\t0.526 / 0.520 / 0.335 / 0.573\n"
     ]
    },
    {
     "name": "stdout",
     "output_type": "stream",
     "text": [
      "RMSE for good train/bad train good val/bad val:\t\t6.5° / 10.7° / 5.5° / 10.4°\n"
     ]
    },
    {
     "name": "stdout",
     "output_type": "stream",
     "text": [
      "ACC for good train/bad train good val/bad val:\t\t83.8% / 77.4% / 85.5% / 76.4%\n"
     ]
    },
    {
     "name": "stdout",
     "output_type": "stream",
     "text": [
      "EPOCH 32/100\tLOSS for train/good val/bad val:\t0.523 / 0.570 / 0.370 / 0.628\n"
     ]
    },
    {
     "name": "stdout",
     "output_type": "stream",
     "text": [
      "EPOCH 33/100\tLOSS for train/good val/bad val:\t0.517 / 0.545 / 0.341 / 0.603\n"
     ]
    },
    {
     "name": "stdout",
     "output_type": "stream",
     "text": [
      "EPOCH 34/100\tLOSS for train/good val/bad val:\t0.518 / 0.576 / 0.329 / 0.646\n"
     ]
    },
    {
     "name": "stdout",
     "output_type": "stream",
     "text": [
      "EPOCH 35/100\tLOSS for train/good val/bad val:\t0.516 / 0.601 / 0.339 / 0.676\n"
     ]
    },
    {
     "name": "stdout",
     "output_type": "stream",
     "text": [
      "EPOCH 36/100\tLOSS for train/good val/bad val:\t0.518 / 0.573 / 0.350 / 0.637\n"
     ]
    },
    {
     "name": "stdout",
     "output_type": "stream",
     "text": [
      "EPOCH 37/100\tLOSS for train/good val/bad val:\t0.516 / 0.565 / 0.343 / 0.629\n"
     ]
    },
    {
     "name": "stdout",
     "output_type": "stream",
     "text": [
      "EPOCH 38/100\tLOSS for train/good val/bad val:\t0.516 / 0.639 / 0.356 / 0.720\n"
     ]
    },
    {
     "name": "stdout",
     "output_type": "stream",
     "text": [
      "EPOCH 39/100\tLOSS for train/good val/bad val:\t0.508 / 0.617 / 0.365 / 0.689\n"
     ]
    },
    {
     "name": "stdout",
     "output_type": "stream",
     "text": [
      "EPOCH 40/100\tLOSS for train/good val/bad val:\t0.509 / 0.614 / 0.346 / 0.691\n"
     ]
    },
    {
     "name": "stdout",
     "output_type": "stream",
     "text": [
      "EPOCH 41/100\tLOSS for train/good val/bad val:\t0.497 / 0.542 / 0.335 / 0.601\n"
     ]
    },
    {
     "name": "stdout",
     "output_type": "stream",
     "text": [
      "RMSE for good train/bad train good val/bad val:\t\t6.0° / 9.7° / 5.0° / 11.6°\n"
     ]
    },
    {
     "name": "stdout",
     "output_type": "stream",
     "text": [
      "ACC for good train/bad train good val/bad val:\t\t85.2% / 78.5% / 85.9% / 75.5%\n"
     ]
    },
    {
     "name": "stdout",
     "output_type": "stream",
     "text": [
      "EPOCH 42/100\tLOSS for train/good val/bad val:\t0.490 / 0.548 / 0.339 / 0.608\n"
     ]
    },
    {
     "name": "stdout",
     "output_type": "stream",
     "text": [
      "EPOCH 43/100\tLOSS for train/good val/bad val:\t0.487 / 0.543 / 0.334 / 0.603\n"
     ]
    },
    {
     "name": "stdout",
     "output_type": "stream",
     "text": [
      "EPOCH 44/100\tLOSS for train/good val/bad val:\t0.483 / 0.544 / 0.334 / 0.604\n"
     ]
    },
    {
     "name": "stdout",
     "output_type": "stream",
     "text": [
      "EPOCH 45/100\tLOSS for train/good val/bad val:\t0.489 / 0.558 / 0.339 / 0.621\n"
     ]
    },
    {
     "name": "stdout",
     "output_type": "stream",
     "text": [
      "EPOCH 46/100\tLOSS for train/good val/bad val:\t0.487 / 0.539 / 0.338 / 0.596\n"
     ]
    },
    {
     "name": "stdout",
     "output_type": "stream",
     "text": [
      "EPOCH 47/100\tLOSS for train/good val/bad val:\t0.487 / 0.536 / 0.343 / 0.591\n"
     ]
    },
    {
     "name": "stdout",
     "output_type": "stream",
     "text": [
      "EPOCH 48/100\tLOSS for train/good val/bad val:\t0.488 / 0.534 / 0.348 / 0.588\n"
     ]
    },
    {
     "name": "stdout",
     "output_type": "stream",
     "text": [
      "EPOCH 49/100\tLOSS for train/good val/bad val:\t0.485 / 0.537 / 0.341 / 0.594\n"
     ]
    },
    {
     "name": "stdout",
     "output_type": "stream",
     "text": [
      "EPOCH 50/100\tLOSS for train/good val/bad val:\t0.485 / 0.530 / 0.347 / 0.583\n"
     ]
    },
    {
     "name": "stdout",
     "output_type": "stream",
     "text": [
      "EPOCH 51/100\tLOSS for train/good val/bad val:\t0.481 / 0.526 / 0.342 / 0.579\n"
     ]
    },
    {
     "name": "stdout",
     "output_type": "stream",
     "text": [
      "RMSE for good train/bad train good val/bad val:\t\t6.2° / 9.4° / 5.2° / 11.0°\n"
     ]
    },
    {
     "name": "stdout",
     "output_type": "stream",
     "text": [
      "ACC for good train/bad train good val/bad val:\t\t85.2% / 79.2% / 85.8% / 76.6%\n"
     ]
    },
    {
     "name": "stdout",
     "output_type": "stream",
     "text": [
      "EPOCH 52/100\tLOSS for train/good val/bad val:\t0.477 / 0.527 / 0.340 / 0.581\n"
     ]
    },
    {
     "name": "stdout",
     "output_type": "stream",
     "text": [
      "EPOCH 53/100\tLOSS for train/good val/bad val:\t0.482 / 0.541 / 0.338 / 0.599\n"
     ]
    },
    {
     "name": "stdout",
     "output_type": "stream",
     "text": [
      "EPOCH 54/100\tLOSS for train/good val/bad val:\t0.481 / 0.549 / 0.341 / 0.608\n"
     ]
    },
    {
     "name": "stdout",
     "output_type": "stream",
     "text": [
      "EPOCH 55/100\tLOSS for train/good val/bad val:\t0.481 / 0.537 / 0.334 / 0.595\n"
     ]
    },
    {
     "name": "stdout",
     "output_type": "stream",
     "text": [
      "EPOCH 56/100\tLOSS for train/good val/bad val:\t0.479 / 0.534 / 0.337 / 0.591\n"
     ]
    },
    {
     "name": "stdout",
     "output_type": "stream",
     "text": [
      "EPOCH 57/100\tLOSS for train/good val/bad val:\t0.480 / 0.535 / 0.337 / 0.592\n"
     ]
    },
    {
     "name": "stdout",
     "output_type": "stream",
     "text": [
      "EPOCH 58/100\tLOSS for train/good val/bad val:\t0.478 / 0.538 / 0.338 / 0.596\n"
     ]
    },
    {
     "name": "stdout",
     "output_type": "stream",
     "text": [
      "EPOCH 59/100\tLOSS for train/good val/bad val:\t0.481 / 0.536 / 0.348 / 0.590\n"
     ]
    },
    {
     "name": "stdout",
     "output_type": "stream",
     "text": [
      "EPOCH 60/100\tLOSS for train/good val/bad val:\t0.480 / 0.535 / 0.342 / 0.590\n"
     ]
    },
    {
     "name": "stdout",
     "output_type": "stream",
     "text": [
      "EPOCH 61/100\tLOSS for train/good val/bad val:\t0.481 / 0.538 / 0.344 / 0.594\n"
     ]
    },
    {
     "name": "stdout",
     "output_type": "stream",
     "text": [
      "RMSE for good train/bad train good val/bad val:\t\t6.0° / 9.3° / 5.1° / 11.5°\n"
     ]
    },
    {
     "name": "stdout",
     "output_type": "stream",
     "text": [
      "ACC for good train/bad train good val/bad val:\t\t85.5% / 79.2% / 85.7% / 76.7%\n"
     ]
    },
    {
     "name": "stdout",
     "output_type": "stream",
     "text": [
      "EPOCH 62/100\tLOSS for train/good val/bad val:\t0.486 / 0.533 / 0.342 / 0.588\n"
     ]
    },
    {
     "name": "stdout",
     "output_type": "stream",
     "text": [
      "EPOCH 63/100\tLOSS for train/good val/bad val:\t0.483 / 0.525 / 0.332 / 0.581\n"
     ]
    },
    {
     "name": "stdout",
     "output_type": "stream",
     "text": [
      "EPOCH 64/100\tLOSS for train/good val/bad val:\t0.477 / 0.542 / 0.334 / 0.601\n"
     ]
    },
    {
     "name": "stdout",
     "output_type": "stream",
     "text": [
      "EPOCH 65/100\tLOSS for train/good val/bad val:\t0.478 / 0.521 / 0.337 / 0.574\n"
     ]
    },
    {
     "name": "stdout",
     "output_type": "stream",
     "text": [
      "EPOCH 66/100\tLOSS for train/good val/bad val:\t0.480 / 0.539 / 0.334 / 0.597\n"
     ]
    },
    {
     "name": "stdout",
     "output_type": "stream",
     "text": [
      "EPOCH 67/100\tLOSS for train/good val/bad val:\t0.478 / 0.544 / 0.334 / 0.604\n"
     ]
    },
    {
     "name": "stdout",
     "output_type": "stream",
     "text": [
      "EPOCH 68/100\tLOSS for train/good val/bad val:\t0.478 / 0.540 / 0.332 / 0.600\n"
     ]
    },
    {
     "name": "stdout",
     "output_type": "stream",
     "text": [
      "EPOCH 69/100\tLOSS for train/good val/bad val:\t0.478 / 0.542 / 0.344 / 0.598\n"
     ]
    },
    {
     "name": "stdout",
     "output_type": "stream",
     "text": [
      "EPOCH 70/100\tLOSS for train/good val/bad val:\t0.481 / 0.519 / 0.338 / 0.571\n"
     ]
    },
    {
     "name": "stdout",
     "output_type": "stream",
     "text": [
      "EPOCH 71/100\tLOSS for train/good val/bad val:\t0.481 / 0.522 / 0.334 / 0.576\n"
     ]
    },
    {
     "name": "stdout",
     "output_type": "stream",
     "text": [
      "RMSE for good train/bad train good val/bad val:\t\t6.2° / 9.2° / 4.9° / 10.7°\n"
     ]
    },
    {
     "name": "stdout",
     "output_type": "stream",
     "text": [
      "ACC for good train/bad train good val/bad val:\t\t85.4% / 78.9% / 86.0% / 76.7%\n"
     ]
    },
    {
     "name": "stdout",
     "output_type": "stream",
     "text": [
      "EPOCH 72/100\tLOSS for train/good val/bad val:\t0.471 / 0.539 / 0.339 / 0.596\n"
     ]
    },
    {
     "name": "stdout",
     "output_type": "stream",
     "text": [
      "EPOCH 73/100\tLOSS for train/good val/bad val:\t0.476 / 0.538 / 0.334 / 0.596\n"
     ]
    },
    {
     "name": "stdout",
     "output_type": "stream",
     "text": [
      "EPOCH 74/100\tLOSS for train/good val/bad val:\t0.474 / 0.541 / 0.334 / 0.600\n"
     ]
    },
    {
     "name": "stdout",
     "output_type": "stream",
     "text": [
      "EPOCH 75/100\tLOSS for train/good val/bad val:\t0.478 / 0.538 / 0.338 / 0.595\n"
     ]
    },
    {
     "name": "stdout",
     "output_type": "stream",
     "text": [
      "EPOCH 76/100\tLOSS for train/good val/bad val:\t0.476 / 0.534 / 0.335 / 0.591\n"
     ]
    },
    {
     "name": "stdout",
     "output_type": "stream",
     "text": [
      "EPOCH 77/100\tLOSS for train/good val/bad val:\t0.476 / 0.526 / 0.333 / 0.581\n"
     ]
    },
    {
     "name": "stdout",
     "output_type": "stream",
     "text": [
      "EPOCH 78/100\tLOSS for train/good val/bad val:\t0.475 / 0.531 / 0.335 / 0.586\n"
     ]
    },
    {
     "name": "stdout",
     "output_type": "stream",
     "text": [
      "EPOCH 79/100\tLOSS for train/good val/bad val:\t0.475 / 0.529 / 0.339 / 0.584\n"
     ]
    },
    {
     "name": "stdout",
     "output_type": "stream",
     "text": [
      "EPOCH 80/100\tLOSS for train/good val/bad val:\t0.470 / 0.539 / 0.335 / 0.597\n"
     ]
    },
    {
     "name": "stdout",
     "output_type": "stream",
     "text": [
      "EPOCH 81/100\tLOSS for train/good val/bad val:\t0.468 / 0.520 / 0.341 / 0.572\n"
     ]
    },
    {
     "name": "stdout",
     "output_type": "stream",
     "text": [
      "RMSE for good train/bad train good val/bad val:\t\t6.2° / 9.2° / 4.9° / 10.7°\n"
     ]
    },
    {
     "name": "stdout",
     "output_type": "stream",
     "text": [
      "ACC for good train/bad train good val/bad val:\t\t85.9% / 79.6% / 85.4% / 76.8%\n"
     ]
    },
    {
     "name": "stdout",
     "output_type": "stream",
     "text": [
      "EPOCH 82/100\tLOSS for train/good val/bad val:\t0.475 / 0.527 / 0.336 / 0.582\n"
     ]
    },
    {
     "name": "stdout",
     "output_type": "stream",
     "text": [
      "EPOCH 83/100\tLOSS for train/good val/bad val:\t0.478 / 0.525 / 0.336 / 0.579\n"
     ]
    },
    {
     "name": "stdout",
     "output_type": "stream",
     "text": [
      "EPOCH 84/100\tLOSS for train/good val/bad val:\t0.476 / 0.530 / 0.337 / 0.585\n"
     ]
    },
    {
     "name": "stdout",
     "output_type": "stream",
     "text": [
      "EPOCH 85/100\tLOSS for train/good val/bad val:\t0.474 / 0.523 / 0.339 / 0.575\n"
     ]
    },
    {
     "name": "stdout",
     "output_type": "stream",
     "text": [
      "EPOCH 86/100\tLOSS for train/good val/bad val:\t0.470 / 0.531 / 0.336 / 0.587\n"
     ]
    },
    {
     "name": "stdout",
     "output_type": "stream",
     "text": [
      "EPOCH 87/100\tLOSS for train/good val/bad val:\t0.469 / 0.528 / 0.335 / 0.583\n"
     ]
    },
    {
     "name": "stdout",
     "output_type": "stream",
     "text": [
      "EPOCH 88/100\tLOSS for train/good val/bad val:\t0.473 / 0.530 / 0.339 / 0.585\n"
     ]
    },
    {
     "name": "stdout",
     "output_type": "stream",
     "text": [
      "EPOCH 89/100\tLOSS for train/good val/bad val:\t0.470 / 0.526 / 0.333 / 0.581\n"
     ]
    },
    {
     "name": "stdout",
     "output_type": "stream",
     "text": [
      "EPOCH 90/100\tLOSS for train/good val/bad val:\t0.473 / 0.545 / 0.341 / 0.604\n"
     ]
    },
    {
     "name": "stdout",
     "output_type": "stream",
     "text": [
      "EPOCH 91/100\tLOSS for train/good val/bad val:\t0.473 / 0.523 / 0.333 / 0.578\n"
     ]
    },
    {
     "name": "stdout",
     "output_type": "stream",
     "text": [
      "RMSE for good train/bad train good val/bad val:\t\t6.0° / 9.2° / 4.9° / 10.8°\n"
     ]
    },
    {
     "name": "stdout",
     "output_type": "stream",
     "text": [
      "ACC for good train/bad train good val/bad val:\t\t85.9% / 79.1% / 85.8% / 76.4%\n"
     ]
    },
    {
     "name": "stdout",
     "output_type": "stream",
     "text": [
      "EPOCH 92/100\tLOSS for train/good val/bad val:\t0.475 / 0.538 / 0.334 / 0.596\n"
     ]
    },
    {
     "name": "stdout",
     "output_type": "stream",
     "text": [
      "EPOCH 93/100\tLOSS for train/good val/bad val:\t0.472 / 0.524 / 0.334 / 0.578\n"
     ]
    },
    {
     "name": "stdout",
     "output_type": "stream",
     "text": [
      "EPOCH 94/100\tLOSS for train/good val/bad val:\t0.473 / 0.522 / 0.335 / 0.576\n"
     ]
    },
    {
     "name": "stdout",
     "output_type": "stream",
     "text": [
      "EPOCH 95/100\tLOSS for train/good val/bad val:\t0.474 / 0.532 / 0.331 / 0.589\n"
     ]
    },
    {
     "name": "stdout",
     "output_type": "stream",
     "text": [
      "EPOCH 96/100\tLOSS for train/good val/bad val:\t0.472 / 0.523 / 0.335 / 0.577\n"
     ]
    },
    {
     "name": "stdout",
     "output_type": "stream",
     "text": [
      "EPOCH 97/100\tLOSS for train/good val/bad val:\t0.469 / 0.528 / 0.336 / 0.583\n"
     ]
    },
    {
     "name": "stdout",
     "output_type": "stream",
     "text": [
      "EPOCH 98/100\tLOSS for train/good val/bad val:\t0.472 / 0.528 / 0.337 / 0.582\n"
     ]
    },
    {
     "name": "stdout",
     "output_type": "stream",
     "text": [
      "EPOCH 99/100\tLOSS for train/good val/bad val:\t0.469 / 0.530 / 0.334 / 0.586\n"
     ]
    },
    {
     "name": "stdout",
     "output_type": "stream",
     "text": [
      "EPOCH 100/100\tLOSS for train/good val/bad val:\t0.473 / 0.529 / 0.338 / 0.584\n"
     ]
    },
    {
     "name": "stdout",
     "output_type": "stream",
     "text": [
      "RMSE for good train/bad train good val/bad val:\t\t6.0° / 9.0° / 5.0° / 11.2°\n"
     ]
    },
    {
     "name": "stdout",
     "output_type": "stream",
     "text": [
      "ACC for good train/bad train good val/bad val:\t\t85.7% / 79.3% / 85.8% / 76.4%\n"
     ]
    },
    {
     "data": {
      "image/png": "[encoded data removed]",
      "text/plain": [
       "<Figure size 432x288 with 1 Axes>"
      ]
     },
     "metadata": {
      "needs_background": "light"
     },
     "output_type": "display_data"
    },
    {
     "name": "stdout",
     "output_type": "stream",
     "text": [
      "Saved model to ../results/models/foe_cnn_e1d3eefedd01a0383c6c5547367e178d_f3.pt\n",
      "* * * * * * * * * * * * * * * * * * * * * * * * * * * * * * * * * * * * * * * * \n",
      "Experiments for fold 4 starts...\n"
     ]
    },
    {
     "name": "stdout",
     "output_type": "stream",
     "text": [
      "Training and validating with:\n",
      "        Autoencoder training set size: 14721\n",
      "        Orientation estimation training set size: 74873\n",
      "        Validation set size (good): 4225\n",
      "        Validation set size (bad): 15660\n"
     ]
    },
    {
     "name": "stdout",
     "output_type": "stream",
     "text": [
      "EPOCH 1/100\tLOSS for train/good val/bad val:\t0.941 / 0.830 / 0.402 / 0.946\n"
     ]
    },
    {
     "name": "stdout",
     "output_type": "stream",
     "text": [
      "RMSE for good train/bad train good val/bad val:\t\t9.8° / 19.7° / 4.8° / 17.0°\n"
     ]
    },
    {
     "name": "stdout",
     "output_type": "stream",
     "text": [
      "ACC for good train/bad train good val/bad val:\t\t76.6% / 62.5% / 83.6% / 64.6%\n"
     ]
    },
    {
     "name": "stdout",
     "output_type": "stream",
     "text": [
      "EPOCH 2/100\tLOSS for train/good val/bad val:\t0.734 / 0.669 / 0.399 / 0.742\n"
     ]
    },
    {
     "name": "stdout",
     "output_type": "stream",
     "text": [
      "EPOCH 3/100\tLOSS for train/good val/bad val:\t0.692 / 0.707 / 0.421 / 0.784\n"
     ]
    },
    {
     "name": "stdout",
     "output_type": "stream",
     "text": [
      "EPOCH 4/100\tLOSS for train/good val/bad val:\t0.670 / 0.904 / 0.434 / 1.031\n"
     ]
    },
    {
     "name": "stdout",
     "output_type": "stream",
     "text": [
      "EPOCH 5/100\tLOSS for train/good val/bad val:\t0.655 / 0.662 / 0.383 / 0.737\n"
     ]
    },
    {
     "name": "stdout",
     "output_type": "stream",
     "text": [
      "EPOCH 6/100\tLOSS for train/good val/bad val:\t0.645 / 0.647 / 0.395 / 0.715\n"
     ]
    },
    {
     "name": "stdout",
     "output_type": "stream",
     "text": [
      "EPOCH 7/100\tLOSS for train/good val/bad val:\t0.629 / 0.697 / 0.366 / 0.787\n"
     ]
    },
    {
     "name": "stdout",
     "output_type": "stream",
     "text": [
      "EPOCH 8/100\tLOSS for train/good val/bad val:\t0.623 / 0.691 / 0.390 / 0.772\n"
     ]
    },
    {
     "name": "stdout",
     "output_type": "stream",
     "text": [
      "EPOCH 9/100\tLOSS for train/good val/bad val:\t0.609 / 0.672 / 0.393 / 0.747\n"
     ]
    },
    {
     "name": "stdout",
     "output_type": "stream",
     "text": [
      "EPOCH 10/100\tLOSS for train/good val/bad val:\t0.607 / 0.671 / 0.385 / 0.749\n"
     ]
    },
    {
     "name": "stdout",
     "output_type": "stream",
     "text": [
      "EPOCH 11/100\tLOSS for train/good val/bad val:\t0.597 / 0.636 / 0.396 / 0.701\n"
     ]
    },
    {
     "name": "stdout",
     "output_type": "stream",
     "text": [
      "RMSE for good train/bad train good val/bad val:\t\t7.4° / 13.5° / 6.0° / 13.7°\n"
     ]
    },
    {
     "name": "stdout",
     "output_type": "stream",
     "text": [
      "ACC for good train/bad train good val/bad val:\t\t83.0% / 74.9% / 83.9% / 73.0%\n"
     ]
    },
    {
     "name": "stdout",
     "output_type": "stream",
     "text": [
      "EPOCH 12/100\tLOSS for train/good val/bad val:\t0.591 / 0.626 / 0.392 / 0.690\n"
     ]
    },
    {
     "name": "stdout",
     "output_type": "stream",
     "text": [
      "EPOCH 13/100\tLOSS for train/good val/bad val:\t0.584 / 0.597 / 0.375 / 0.657\n"
     ]
    },
    {
     "name": "stdout",
     "output_type": "stream",
     "text": [
      "EPOCH 14/100\tLOSS for train/good val/bad val:\t0.579 / 0.585 / 0.407 / 0.634\n"
     ]
    },
    {
     "name": "stdout",
     "output_type": "stream",
     "text": [
      "EPOCH 15/100\tLOSS for train/good val/bad val:\t0.572 / 0.602 / 0.368 / 0.664\n"
     ]
    },
    {
     "name": "stdout",
     "output_type": "stream",
     "text": [
      "EPOCH 16/100\tLOSS for train/good val/bad val:\t0.570 / 0.587 / 0.365 / 0.647\n"
     ]
    },
    {
     "name": "stdout",
     "output_type": "stream",
     "text": [
      "EPOCH 17/100\tLOSS for train/good val/bad val:\t0.566 / 0.580 / 0.402 / 0.628\n"
     ]
    },
    {
     "name": "stdout",
     "output_type": "stream",
     "text": [
      "EPOCH 18/100\tLOSS for train/good val/bad val:\t0.564 / 0.573 / 0.394 / 0.621\n"
     ]
    },
    {
     "name": "stdout",
     "output_type": "stream",
     "text": [
      "EPOCH 19/100\tLOSS for train/good val/bad val:\t0.561 / 0.568 / 0.368 / 0.621\n"
     ]
    },
    {
     "name": "stdout",
     "output_type": "stream",
     "text": [
      "EPOCH 20/100\tLOSS for train/good val/bad val:\t0.551 / 0.592 / 0.376 / 0.650\n"
     ]
    },
    {
     "name": "stdout",
     "output_type": "stream",
     "text": [
      "EPOCH 21/100\tLOSS for train/good val/bad val:\t0.553 / 0.587 / 0.394 / 0.639\n"
     ]
    },
    {
     "name": "stdout",
     "output_type": "stream",
     "text": [
      "RMSE for good train/bad train good val/bad val:\t\t7.1° / 11.9° / 5.0° / 11.0°\n"
     ]
    },
    {
     "name": "stdout",
     "output_type": "stream",
     "text": [
      "ACC for good train/bad train good val/bad val:\t\t83.6% / 76.2% / 84.3% / 73.9%\n"
     ]
    },
    {
     "name": "stdout",
     "output_type": "stream",
     "text": [
      "EPOCH 22/100\tLOSS for train/good val/bad val:\t0.546 / 0.593 / 0.392 / 0.647\n"
     ]
    },
    {
     "name": "stdout",
     "output_type": "stream",
     "text": [
      "EPOCH 23/100\tLOSS for train/good val/bad val:\t0.547 / 0.564 / 0.382 / 0.612\n"
     ]
    },
    {
     "name": "stdout",
     "output_type": "stream",
     "text": [
      "EPOCH 24/100\tLOSS for train/good val/bad val:\t0.544 / 0.591 / 0.378 / 0.648\n"
     ]
    },
    {
     "name": "stdout",
     "output_type": "stream",
     "text": [
      "EPOCH 25/100\tLOSS for train/good val/bad val:\t0.542 / 0.575 / 0.368 / 0.630\n"
     ]
    },
    {
     "name": "stdout",
     "output_type": "stream",
     "text": [
      "EPOCH 26/100\tLOSS for train/good val/bad val:\t0.537 / 0.588 / 0.397 / 0.640\n"
     ]
    },
    {
     "name": "stdout",
     "output_type": "stream",
     "text": [
      "EPOCH 27/100\tLOSS for train/good val/bad val:\t0.532 / 0.566 / 0.382 / 0.616\n"
     ]
    },
    {
     "name": "stdout",
     "output_type": "stream",
     "text": [
      "EPOCH 28/100\tLOSS for train/good val/bad val:\t0.528 / 0.632 / 0.395 / 0.695\n"
     ]
    },
    {
     "name": "stdout",
     "output_type": "stream",
     "text": [
      "EPOCH 29/100\tLOSS for train/good val/bad val:\t0.536 / 0.584 / 0.397 / 0.635\n"
     ]
    },
    {
     "name": "stdout",
     "output_type": "stream",
     "text": [
      "EPOCH 30/100\tLOSS for train/good val/bad val:\t0.531 / 0.607 / 0.382 / 0.668\n"
     ]
    },
    {
     "name": "stdout",
     "output_type": "stream",
     "text": [
      "EPOCH 31/100\tLOSS for train/good val/bad val:\t0.535 / 0.558 / 0.384 / 0.605\n"
     ]
    },
    {
     "name": "stdout",
     "output_type": "stream",
     "text": [
      "RMSE for good train/bad train good val/bad val:\t\t6.8° / 11.0° / 4.7° / 10.5°\n"
     ]
    },
    {
     "name": "stdout",
     "output_type": "stream",
     "text": [
      "ACC for good train/bad train good val/bad val:\t\t84.0% / 77.0% / 84.3% / 75.2%\n"
     ]
    },
    {
     "name": "stdout",
     "output_type": "stream",
     "text": [
      "EPOCH 32/100\tLOSS for train/good val/bad val:\t0.524 / 0.580 / 0.402 / 0.629\n"
     ]
    },
    {
     "name": "stdout",
     "output_type": "stream",
     "text": [
      "EPOCH 33/100\tLOSS for train/good val/bad val:\t0.523 / 0.613 / 0.385 / 0.675\n"
     ]
    },
    {
     "name": "stdout",
     "output_type": "stream",
     "text": [
      "EPOCH 34/100\tLOSS for train/good val/bad val:\t0.526 / 0.574 / 0.374 / 0.628\n"
     ]
    },
    {
     "name": "stdout",
     "output_type": "stream",
     "text": [
      "EPOCH 35/100\tLOSS for train/good val/bad val:\t0.523 / 0.577 / 0.370 / 0.633\n"
     ]
    },
    {
     "name": "stdout",
     "output_type": "stream",
     "text": [
      "EPOCH 36/100\tLOSS for train/good val/bad val:\t0.522 / 0.588 / 0.366 / 0.648\n"
     ]
    },
    {
     "name": "stdout",
     "output_type": "stream",
     "text": [
      "EPOCH 37/100\tLOSS for train/good val/bad val:\t0.520 / 0.559 / 0.371 / 0.609\n"
     ]
    },
    {
     "name": "stdout",
     "output_type": "stream",
     "text": [
      "EPOCH 38/100\tLOSS for train/good val/bad val:\t0.519 / 0.568 / 0.376 / 0.619\n"
     ]
    },
    {
     "name": "stdout",
     "output_type": "stream",
     "text": [
      "EPOCH 39/100\tLOSS for train/good val/bad val:\t0.517 / 0.637 / 0.379 / 0.707\n"
     ]
    },
    {
     "name": "stdout",
     "output_type": "stream",
     "text": [
      "EPOCH 40/100\tLOSS for train/good val/bad val:\t0.514 / 0.579 / 0.374 / 0.634\n"
     ]
    },
    {
     "name": "stdout",
     "output_type": "stream",
     "text": [
      "EPOCH 41/100\tLOSS for train/good val/bad val:\t0.498 / 0.544 / 0.372 / 0.590\n"
     ]
    },
    {
     "name": "stdout",
     "output_type": "stream",
     "text": [
      "RMSE for good train/bad train good val/bad val:\t\t6.5° / 10.0° / 4.8° / 10.6°\n"
     ]
    },
    {
     "name": "stdout",
     "output_type": "stream",
     "text": [
      "ACC for good train/bad train good val/bad val:\t\t84.7% / 78.2% / 85.3% / 75.6%\n"
     ]
    },
    {
     "name": "stdout",
     "output_type": "stream",
     "text": [
      "EPOCH 42/100\tLOSS for train/good val/bad val:\t0.495 / 0.541 / 0.372 / 0.586\n"
     ]
    },
    {
     "name": "stdout",
     "output_type": "stream",
     "text": [
      "EPOCH 43/100\tLOSS for train/good val/bad val:\t0.492 / 0.548 / 0.365 / 0.598\n"
     ]
    },
    {
     "name": "stdout",
     "output_type": "stream",
     "text": [
      "EPOCH 44/100\tLOSS for train/good val/bad val:\t0.495 / 0.543 / 0.372 / 0.590\n"
     ]
    },
    {
     "name": "stdout",
     "output_type": "stream",
     "text": [
      "EPOCH 45/100\tLOSS for train/good val/bad val:\t0.492 / 0.545 / 0.373 / 0.592\n"
     ]
    },
    {
     "name": "stdout",
     "output_type": "stream",
     "text": [
      "EPOCH 46/100\tLOSS for train/good val/bad val:\t0.490 / 0.543 / 0.373 / 0.589\n"
     ]
    },
    {
     "name": "stdout",
     "output_type": "stream",
     "text": [
      "EPOCH 47/100\tLOSS for train/good val/bad val:\t0.490 / 0.543 / 0.367 / 0.591\n"
     ]
    },
    {
     "name": "stdout",
     "output_type": "stream",
     "text": [
      "EPOCH 48/100\tLOSS for train/good val/bad val:\t0.488 / 0.544 / 0.371 / 0.591\n"
     ]
    },
    {
     "name": "stdout",
     "output_type": "stream",
     "text": [
      "EPOCH 49/100\tLOSS for train/good val/bad val:\t0.489 / 0.545 / 0.368 / 0.593\n"
     ]
    },
    {
     "name": "stdout",
     "output_type": "stream",
     "text": [
      "EPOCH 50/100\tLOSS for train/good val/bad val:\t0.486 / 0.547 / 0.366 / 0.595\n"
     ]
    },
    {
     "name": "stdout",
     "output_type": "stream",
     "text": [
      "EPOCH 51/100\tLOSS for train/good val/bad val:\t0.487 / 0.551 / 0.370 / 0.599\n"
     ]
    },
    {
     "name": "stdout",
     "output_type": "stream",
     "text": [
      "RMSE for good train/bad train good val/bad val:\t\t6.2° / 9.7° / 4.6° / 10.9°\n"
     ]
    },
    {
     "name": "stdout",
     "output_type": "stream",
     "text": [
      "ACC for good train/bad train good val/bad val:\t\t85.3% / 78.6% / 85.1% / 75.4%\n"
     ]
    },
    {
     "name": "stdout",
     "output_type": "stream",
     "text": [
      "EPOCH 52/100\tLOSS for train/good val/bad val:\t0.488 / 0.552 / 0.369 / 0.601\n"
     ]
    },
    {
     "name": "stdout",
     "output_type": "stream",
     "text": [
      "EPOCH 53/100\tLOSS for train/good val/bad val:\t0.484 / 0.543 / 0.366 / 0.591\n"
     ]
    },
    {
     "name": "stdout",
     "output_type": "stream",
     "text": [
      "EPOCH 54/100\tLOSS for train/good val/bad val:\t0.486 / 0.545 / 0.375 / 0.591\n"
     ]
    },
    {
     "name": "stdout",
     "output_type": "stream",
     "text": [
      "EPOCH 55/100\tLOSS for train/good val/bad val:\t0.485 / 0.550 / 0.373 / 0.598\n"
     ]
    },
    {
     "name": "stdout",
     "output_type": "stream",
     "text": [
      "EPOCH 56/100\tLOSS for train/good val/bad val:\t0.485 / 0.547 / 0.366 / 0.595\n"
     ]
    },
    {
     "name": "stdout",
     "output_type": "stream",
     "text": [
      "EPOCH 57/100\tLOSS for train/good val/bad val:\t0.483 / 0.542 / 0.369 / 0.588\n"
     ]
    },
    {
     "name": "stdout",
     "output_type": "stream",
     "text": [
      "EPOCH 58/100\tLOSS for train/good val/bad val:\t0.483 / 0.544 / 0.366 / 0.593\n"
     ]
    },
    {
     "name": "stdout",
     "output_type": "stream",
     "text": [
      "EPOCH 59/100\tLOSS for train/good val/bad val:\t0.485 / 0.545 / 0.363 / 0.594\n"
     ]
    },
    {
     "name": "stdout",
     "output_type": "stream",
     "text": [
      "EPOCH 60/100\tLOSS for train/good val/bad val:\t0.482 / 0.540 / 0.369 / 0.586\n"
     ]
    },
    {
     "name": "stdout",
     "output_type": "stream",
     "text": [
      "EPOCH 61/100\tLOSS for train/good val/bad val:\t0.483 / 0.548 / 0.366 / 0.597\n"
     ]
    },
    {
     "name": "stdout",
     "output_type": "stream",
     "text": [
      "RMSE for good train/bad train good val/bad val:\t\t6.5° / 9.5° / 4.7° / 10.8°\n"
     ]
    },
    {
     "name": "stdout",
     "output_type": "stream",
     "text": [
      "ACC for good train/bad train good val/bad val:\t\t85.5% / 78.5% / 85.7% / 75.5%\n"
     ]
    },
    {
     "name": "stdout",
     "output_type": "stream",
     "text": [
      "EPOCH 62/100\tLOSS for train/good val/bad val:\t0.481 / 0.543 / 0.368 / 0.590\n"
     ]
    },
    {
     "name": "stdout",
     "output_type": "stream",
     "text": [
      "EPOCH 63/100\tLOSS for train/good val/bad val:\t0.484 / 0.544 / 0.364 / 0.593\n"
     ]
    },
    {
     "name": "stdout",
     "output_type": "stream",
     "text": [
      "EPOCH 64/100\tLOSS for train/good val/bad val:\t0.484 / 0.541 / 0.362 / 0.589\n"
     ]
    },
    {
     "name": "stdout",
     "output_type": "stream",
     "text": [
      "EPOCH 65/100\tLOSS for train/good val/bad val:\t0.482 / 0.546 / 0.360 / 0.597\n"
     ]
    },
    {
     "name": "stdout",
     "output_type": "stream",
     "text": [
      "EPOCH 66/100\tLOSS for train/good val/bad val:\t0.484 / 0.544 / 0.364 / 0.592\n"
     ]
    },
    {
     "name": "stdout",
     "output_type": "stream",
     "text": [
      "EPOCH 67/100\tLOSS for train/good val/bad val:\t0.483 / 0.542 / 0.369 / 0.589\n"
     ]
    },
    {
     "name": "stdout",
     "output_type": "stream",
     "text": [
      "EPOCH 68/100\tLOSS for train/good val/bad val:\t0.484 / 0.547 / 0.373 / 0.595\n"
     ]
    },
    {
     "name": "stdout",
     "output_type": "stream",
     "text": [
      "EPOCH 69/100\tLOSS for train/good val/bad val:\t0.478 / 0.549 / 0.371 / 0.597\n"
     ]
    },
    {
     "name": "stdout",
     "output_type": "stream",
     "text": [
      "EPOCH 70/100\tLOSS for train/good val/bad val:\t0.479 / 0.543 / 0.364 / 0.591\n"
     ]
    },
    {
     "name": "stdout",
     "output_type": "stream",
     "text": [
      "EPOCH 71/100\tLOSS for train/good val/bad val:\t0.481 / 0.553 / 0.373 / 0.601\n"
     ]
    },
    {
     "name": "stdout",
     "output_type": "stream",
     "text": [
      "RMSE for good train/bad train good val/bad val:\t\t6.4° / 9.5° / 4.6° / 10.7°\n"
     ]
    },
    {
     "name": "stdout",
     "output_type": "stream",
     "text": [
      "ACC for good train/bad train good val/bad val:\t\t85.0% / 79.1% / 84.8% / 75.3%\n"
     ]
    },
    {
     "name": "stdout",
     "output_type": "stream",
     "text": [
      "EPOCH 72/100\tLOSS for train/good val/bad val:\t0.480 / 0.553 / 0.364 / 0.603\n"
     ]
    },
    {
     "name": "stdout",
     "output_type": "stream",
     "text": [
      "EPOCH 73/100\tLOSS for train/good val/bad val:\t0.476 / 0.551 / 0.368 / 0.601\n"
     ]
    },
    {
     "name": "stdout",
     "output_type": "stream",
     "text": [
      "EPOCH 74/100\tLOSS for train/good val/bad val:\t0.479 / 0.544 / 0.374 / 0.590\n"
     ]
    },
    {
     "name": "stdout",
     "output_type": "stream",
     "text": [
      "EPOCH 75/100\tLOSS for train/good val/bad val:\t0.479 / 0.545 / 0.367 / 0.592\n"
     ]
    },
    {
     "name": "stdout",
     "output_type": "stream",
     "text": [
      "EPOCH 76/100\tLOSS for train/good val/bad val:\t0.481 / 0.548 / 0.368 / 0.597\n"
     ]
    },
    {
     "name": "stdout",
     "output_type": "stream",
     "text": [
      "EPOCH 77/100\tLOSS for train/good val/bad val:\t0.479 / 0.555 / 0.365 / 0.606\n"
     ]
    },
    {
     "name": "stdout",
     "output_type": "stream",
     "text": [
      "EPOCH 78/100\tLOSS for train/good val/bad val:\t0.478 / 0.545 / 0.365 / 0.594\n"
     ]
    },
    {
     "name": "stdout",
     "output_type": "stream",
     "text": [
      "EPOCH 79/100\tLOSS for train/good val/bad val:\t0.475 / 0.542 / 0.369 / 0.588\n"
     ]
    },
    {
     "name": "stdout",
     "output_type": "stream",
     "text": [
      "EPOCH 80/100\tLOSS for train/good val/bad val:\t0.478 / 0.545 / 0.364 / 0.593\n"
     ]
    },
    {
     "name": "stdout",
     "output_type": "stream",
     "text": [
      "EPOCH 81/100\tLOSS for train/good val/bad val:\t0.477 / 0.543 / 0.365 / 0.591\n"
     ]
    },
    {
     "name": "stdout",
     "output_type": "stream",
     "text": [
      "RMSE for good train/bad train good val/bad val:\t\t6.3° / 9.2° / 4.7° / 10.6°\n"
     ]
    },
    {
     "name": "stdout",
     "output_type": "stream",
     "text": [
      "ACC for good train/bad train good val/bad val:\t\t85.2% / 79.3% / 85.2% / 75.6%\n"
     ]
    },
    {
     "name": "stdout",
     "output_type": "stream",
     "text": [
      "EPOCH 82/100\tLOSS for train/good val/bad val:\t0.480 / 0.549 / 0.367 / 0.598\n"
     ]
    },
    {
     "name": "stdout",
     "output_type": "stream",
     "text": [
      "EPOCH 83/100\tLOSS for train/good val/bad val:\t0.475 / 0.548 / 0.369 / 0.597\n"
     ]
    },
    {
     "name": "stdout",
     "output_type": "stream",
     "text": [
      "EPOCH 84/100\tLOSS for train/good val/bad val:\t0.474 / 0.547 / 0.366 / 0.595\n"
     ]
    },
    {
     "name": "stdout",
     "output_type": "stream",
     "text": [
      "EPOCH 85/100\tLOSS for train/good val/bad val:\t0.477 / 0.545 / 0.368 / 0.592\n"
     ]
    },
    {
     "name": "stdout",
     "output_type": "stream",
     "text": [
      "EPOCH 86/100\tLOSS for train/good val/bad val:\t0.474 / 0.544 / 0.365 / 0.592\n"
     ]
    },
    {
     "name": "stdout",
     "output_type": "stream",
     "text": [
      "EPOCH 87/100\tLOSS for train/good val/bad val:\t0.476 / 0.543 / 0.367 / 0.590\n"
     ]
    },
    {
     "name": "stdout",
     "output_type": "stream",
     "text": [
      "EPOCH 88/100\tLOSS for train/good val/bad val:\t0.480 / 0.546 / 0.364 / 0.595\n"
     ]
    },
    {
     "name": "stdout",
     "output_type": "stream",
     "text": [
      "EPOCH 89/100\tLOSS for train/good val/bad val:\t0.480 / 0.550 / 0.364 / 0.600\n"
     ]
    },
    {
     "name": "stdout",
     "output_type": "stream",
     "text": [
      "EPOCH 90/100\tLOSS for train/good val/bad val:\t0.474 / 0.547 / 0.367 / 0.596\n"
     ]
    },
    {
     "name": "stdout",
     "output_type": "stream",
     "text": [
      "EPOCH 91/100\tLOSS for train/good val/bad val:\t0.473 / 0.551 / 0.367 / 0.601\n"
     ]
    },
    {
     "name": "stdout",
     "output_type": "stream",
     "text": [
      "RMSE for good train/bad train good val/bad val:\t\t6.2° / 9.3° / 4.8° / 10.9°\n"
     ]
    },
    {
     "name": "stdout",
     "output_type": "stream",
     "text": [
      "ACC for good train/bad train good val/bad val:\t\t85.6% / 79.2% / 85.2% / 75.4%\n"
     ]
    },
    {
     "name": "stdout",
     "output_type": "stream",
     "text": [
      "EPOCH 92/100\tLOSS for train/good val/bad val:\t0.474 / 0.544 / 0.366 / 0.592\n"
     ]
    },
    {
     "name": "stdout",
     "output_type": "stream",
     "text": [
      "EPOCH 93/100\tLOSS for train/good val/bad val:\t0.475 / 0.547 / 0.369 / 0.595\n"
     ]
    },
    {
     "name": "stdout",
     "output_type": "stream",
     "text": [
      "EPOCH 94/100\tLOSS for train/good val/bad val:\t0.476 / 0.543 / 0.367 / 0.591\n"
     ]
    },
    {
     "name": "stdout",
     "output_type": "stream",
     "text": [
      "EPOCH 95/100\tLOSS for train/good val/bad val:\t0.473 / 0.545 / 0.367 / 0.593\n"
     ]
    },
    {
     "name": "stdout",
     "output_type": "stream",
     "text": [
      "EPOCH 96/100\tLOSS for train/good val/bad val:\t0.474 / 0.548 / 0.369 / 0.597\n"
     ]
    },
    {
     "name": "stdout",
     "output_type": "stream",
     "text": [
      "EPOCH 97/100\tLOSS for train/good val/bad val:\t0.474 / 0.550 / 0.369 / 0.599\n"
     ]
    },
    {
     "name": "stdout",
     "output_type": "stream",
     "text": [
      "EPOCH 98/100\tLOSS for train/good val/bad val:\t0.473 / 0.545 / 0.367 / 0.593\n"
     ]
    },
    {
     "name": "stdout",
     "output_type": "stream",
     "text": [
      "EPOCH 99/100\tLOSS for train/good val/bad val:\t0.475 / 0.545 / 0.368 / 0.593\n"
     ]
    },
    {
     "name": "stdout",
     "output_type": "stream",
     "text": [
      "EPOCH 100/100\tLOSS for train/good val/bad val:\t0.478 / 0.540 / 0.363 / 0.588\n"
     ]
    },
    {
     "name": "stdout",
     "output_type": "stream",
     "text": [
      "RMSE for good train/bad train good val/bad val:\t\t6.4° / 9.3° / 4.5° / 10.4°\n"
     ]
    },
    {
     "name": "stdout",
     "output_type": "stream",
     "text": [
      "ACC for good train/bad train good val/bad val:\t\t85.2% / 79.2% / 85.0% / 75.8%\n"
     ]
    },
    {
     "data": {
      "image/png": "[encoded data removed]",
      "text/plain": [
       "<Figure size 432x288 with 1 Axes>"
      ]
     },
     "metadata": {
      "needs_background": "light"
     },
     "output_type": "display_data"
    },
    {
     "name": "stdout",
     "output_type": "stream",
     "text": [
      "Saved model to ../results/models/foe_cnn_e1d3eefedd01a0383c6c5547367e178d_f4.pt\n",
      "FINAL RESULTS:\n",
      "\tTrain good rmse: 6.1° ± 0.2°\n",
      "\tTrain bad rmse: 9.2° ± 0.1°\n",
      "\tVal good rmse: 5.7° ± 1.0°\n",
      "\tVal bad rmse: 10.8° ± 0.7°\n",
      "\n"
     ]
    }
   ],
   "source": [
    "# configure fingerprint patch dataset in folds and run the experiments\n",
    "\n",
    "fpd_gd = FOEFingerprintDataset(dataset_dir, 'good')\n",
    "fpd_gd.set_split_indices(splits_dir, split_id, num_folds)\n",
    "\n",
    "fpd_bd = FOEFingerprintDataset(dataset_dir, 'bad')\n",
    "fpd_bd.set_split_indices(splits_dir, split_id, num_folds)\n",
    "\n",
    "RMSE = []\n",
    "for fold_id in range(num_folds):\n",
    "    print('* '*40)\n",
    "    print('Experiments for fold {} starts...'.format(fold_id))\n",
    "\n",
    "    ae_train_loader = train_loader = val_loader = None\n",
    "    val_loader_gd = val_loader_bd = None\n",
    "\n",
    "    (ae_train_loader, train_loader, val_loader_gd, val_loader_bd,\n",
    "     val_loader) = create_dataloaders(fpd_gd, fpd_bd, fold_id, NUM_WORKERS,\n",
    "                                      use_gpu, args)\n",
    "    num_val_gd = len(val_loader_gd.dataset)\n",
    "    num_val_bd = len(val_loader_bd.dataset)\n",
    "\n",
    "    encoder = None\n",
    "    if approach == 'ae_mlp':\n",
    "        ae, metrics = init_model('ae', models_dir, file_id, fold_id,\n",
    "                                 device, args)\n",
    "        n_epochs = ae_num_epochs - len(metrics.data['train_loss'])\n",
    "        loss_fn = torch.nn.MSELoss(reduction='sum')\n",
    "        optimizer = optim.Adam(ae.parameters(), lr=ae_learning_rate)\n",
    "        scheduler_array = [int(0.7 * ae_num_epochs),\n",
    "                           int(0.9 * ae_num_epochs)]\n",
    "        scheduler = optim.lr_scheduler.MultiStepLR(optimizer,\n",
    "                                                   scheduler_array,\n",
    "                                                   gamma=0.1)\n",
    "        for e in range(1, n_epochs+1):\n",
    "            train_loss = train_epoch(ae, ae_train_loader, loss_fn, optimizer,\n",
    "                                     is_ae=True)\n",
    "            val_loss_gd = val_epoch(ae, val_loader_gd, loss_fn, is_ae=True)\n",
    "            val_loss_bd = val_epoch(ae, val_loader_bd, loss_fn, is_ae=True)\n",
    "            val_loss = ((num_val_gd * val_loss_gd + num_val_bd * val_loss_bd) /\n",
    "                        (num_val_gd + num_val_bd))\n",
    "            scheduler.step()\n",
    "\n",
    "            print('EPOCH {}/{}\\tLOSS for train/good val/bad val: '\n",
    "                  '{:.3f} / {:.3f} / {:.3f} / {:.3f}'\n",
    "                  .format(e, n_epochs, train_loss, val_loss,\n",
    "                          val_loss_gd, val_loss_bd))\n",
    "\n",
    "            metrics.append(train_loss, val_loss, val_loss_gd, val_loss_bd)\n",
    "        metrics.plot()\n",
    "        ae.plot_outputs(val_loader_gd.dataset, 5)\n",
    "        ae.plot_outputs(val_loader_bd.dataset, 5)\n",
    "        if n_epochs > 0:\n",
    "            save_model(ae)\n",
    "            metrics.save()\n",
    "        encoder = ae.encoder\n",
    "\n",
    "        model, metrics = init_model('mlp', models_dir, file_id, fold_id,\n",
    "                                    device, args)\n",
    "        loss_fn = torch.nn.CrossEntropyLoss(reduction='sum').to(device)\n",
    "        optimizer = optim.Adam(model.parameters(), lr=learning_rate)\n",
    "        scheduler_array = [int(0.4 * num_epochs),\n",
    "                           int(0.75 * num_epochs)]\n",
    "        scheduler = optim.lr_scheduler.MultiStepLR(optimizer, scheduler_array,\n",
    "                                                   gamma=0.1)\n",
    "    elif approach == 'cnn':\n",
    "        model, metrics = init_model('cnn', models_dir, file_id, fold_id,\n",
    "                                    device, args)\n",
    "        loss_fn = torch.nn.CrossEntropyLoss(reduction='sum').to(device)\n",
    "        optimizer = optim.Adam(model.parameters(), lr=learning_rate)\n",
    "        scheduler_array = [int(0.4 * num_epochs),\n",
    "                           int(0.75 * num_epochs)]\n",
    "        scheduler = optim.lr_scheduler.MultiStepLR(optimizer, scheduler_array,\n",
    "                                                   gamma=0.1)\n",
    "    else:\n",
    "        raise Exception('The \"approach\" parameter should'\n",
    "                        ' either be \"ae_mlp\" or \"cnn\"!')\n",
    "\n",
    "    estimator = None\n",
    "    if num_classes > 1:\n",
    "        estimator = FOEOrientation.radians_from_marginalization\n",
    "\n",
    "    n_epochs = num_epochs - len(metrics.data['train_loss'])\n",
    "    for e in range(1, n_epochs+1):\n",
    "        results = FOEResults()\n",
    "        results.set_fold(fold_id)\n",
    "\n",
    "        train_loss = train_epoch(model, train_loader, loss_fn, optimizer,\n",
    "                                 encoder=encoder, results=results)\n",
    "        val_loss_gd = val_epoch(model, val_loader_gd, loss_fn,\n",
    "                                encoder=encoder, results=results)\n",
    "        val_loss_bd = val_epoch(model, val_loader_bd, loss_fn,\n",
    "                                encoder=encoder, results=results)\n",
    "        val_loss = ((num_val_gd * val_loss_gd + num_val_bd * val_loss_bd) /\n",
    "                    (num_val_gd + num_val_bd))\n",
    "\n",
    "        metrics.append(train_loss, val_loss, val_loss_gd, val_loss_bd)\n",
    "        scheduler.step()\n",
    "\n",
    "        print('EPOCH {}/{}\\tLOSS for train/good val/bad val:\\t'\n",
    "              '{:.3f} / {:.3f} / {:.3f} / {:.3f}'\n",
    "              .format(e, n_epochs, train_loss, val_loss,\n",
    "                      val_loss_gd, val_loss_bd))\n",
    "\n",
    "        if e % 10 == 1 or e == n_epochs:\n",
    "            rmse_val = results.compute_classification_rmse(fold_id, estimator)\n",
    "            rmse_val = [rmse / np.pi * 180 for rmse in rmse_val]\n",
    "            print('RMSE for good train/bad train good val/bad val:\\t\\t'\n",
    "                  '{:3.1f}° / {:3.1f}° / {:3.1f}° / {:3.1f}°'\n",
    "                  ''.format(*rmse_val))\n",
    "\n",
    "            if num_classes > 1:\n",
    "                acc_val = results.compute_classification_acc(fold_id)\n",
    "                acc_val = [acc * 100 for acc in acc_val]\n",
    "                print('ACC for good train/bad train good val/bad val:\\t\\t'\n",
    "                      '{:3.1f}% / {:3.1f}% / {:3.1f}% / {:3.1f}%'\n",
    "                      ''.format(*acc_val))\n",
    "    metrics.plot()\n",
    "    if n_epochs > 0:\n",
    "        save_model(model)\n",
    "        metrics.save()\n",
    "    else:\n",
    "        results = FOEResults()\n",
    "        results.set_fold(fold_id)\n",
    "        train_loss = val_epoch(model, train_loader, loss_fn,\n",
    "                               encoder=encoder, results=results, is_tr=True)\n",
    "        val_loss_gd = val_epoch(model, val_loader_gd, loss_fn,\n",
    "                                encoder=encoder, results=results)\n",
    "        val_loss_bd = val_epoch(model, val_loader_bd, loss_fn,\n",
    "                                encoder=encoder, results=results)\n",
    "        val_loss = ((num_val_gd * val_loss_gd + num_val_bd * val_loss_bd) /\n",
    "                    (num_val_gd + num_val_bd))\n",
    "\n",
    "        print('Final LOSS for train/good val/bad val:\\t'\n",
    "              '{:.3f} / {:.3f} / {:.3f} / {:.3f}'\n",
    "              .format(train_loss, val_loss, val_loss_gd, val_loss_bd))\n",
    "\n",
    "        rmse_val = results.compute_classification_rmse(fold_id, estimator)\n",
    "        rmse_val = [rmse / np.pi * 180 for rmse in rmse_val]\n",
    "        print('RMSE for good train/bad train good val/bad val:\\t\\t'\n",
    "              '{:3.1f}° / {:3.1f}° / {:3.1f}° / {:3.1f}°'.format(*rmse_val))\n",
    "\n",
    "        if num_classes > 1:\n",
    "            acc_val = results.compute_classification_acc(fold_id)\n",
    "            acc_val = [acc * 100 for acc in acc_val]\n",
    "            print('ACC for good train/bad train good val/bad val:\\t\\t'\n",
    "                  '{:3.1f}% / {:3.1f}% / {:3.1f}% / {:3.1f}%'.format(*acc_val))\n",
    "    RMSE.append(rmse_val)\n",
    "\n",
    "RMSE_mean = np.array(RMSE).mean(0)\n",
    "RMSE_std = np.array(RMSE).std(0)\n",
    "\n",
    "print('FINAL RESULTS:\\n\\t'\n",
    "      'Train good rmse: {:.1f}° ± {:.1f}°\\n\\t'\n",
    "      'Train bad rmse: {:.1f}° ± {:.1f}°\\n\\t'\n",
    "      'Val good rmse: {:.1f}° ± {:.1f}°\\n\\t'\n",
    "      'Val bad rmse: {:.1f}° ± {:.1f}°\\n'\n",
    "      .format(RMSE_mean[0], RMSE_std[0], RMSE_mean[1], RMSE_std[1],\n",
    "              RMSE_mean[2], RMSE_std[2], RMSE_mean[3], RMSE_std[3]))"
   ]
  }
 ],
 "metadata": {
  "language_info": {
   "codemirror_mode": {
    "name": "ipython",
    "version": 3
   },
   "file_extension": ".py",
   "mimetype": "text/x-python",
   "name": "python",
   "nbconvert_exporter": "python",
   "pygments_lexer": "ipython3",
   "version": "3.9.7"
  },
  "papermill": {
   "default_parameters": {},
   "duration": 32463.5102,
   "end_time": "2021-11-16T05:01:13.639481",
   "environment_variables": {},
   "exception": null,
   "input_path": "experiment.ipynb",
   "output_path": "experiment_o.ipynb",
   "parameters": {
    "approach": "cnn",
    "batch_size": 64,
    "dataset_dir": "../datasets/Finger/FOESamples",
    "file_id": "e1d3eefedd01a0383c6c5547367e178d",
    "hflip": true,
    "learning_rate": 0.001,
    "num_classes": 9,
    "num_epochs": 100,
    "num_folds": 5,
    "output_dir": "../results",
    "patch_size": 96,
    "rotate": true,
    "seed": 0,
    "split_id": 2,
    "use_cpu": false
   },
   "start_time": "2021-11-15T20:00:10.129281",
   "version": "2.3.3"
  }
 },
 "nbformat": 4,
 "nbformat_minor": 5
}